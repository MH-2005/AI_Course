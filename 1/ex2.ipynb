{
 "cells": [
  {
   "cell_type": "markdown",
   "id": "1fc7ed34",
   "metadata": {},
   "source": [
    "<h2 style=\"font-family: 'Vazir', Arial, sans-serif; color: white; text-align: center; margin-bottom: 20px; font-weight: bold;\">وارد کردن کتابخانه‌های مورد نیاز</h2>"
   ]
  },
  {
   "cell_type": "code",
   "id": "04e9184b",
   "metadata": {
    "ExecuteTime": {
     "end_time": "2025-07-10T07:15:26.134466Z",
     "start_time": "2025-07-10T07:15:26.126208Z"
    }
   },
   "source": [
    "import time\n",
    "from selenium import webdriver\n",
    "from selenium.webdriver.chrome.service import Service as ChromeService\n",
    "from selenium.webdriver.common.by import By\n",
    "from webdriver_manager.chrome import ChromeDriverManager\n",
    "from selenium.webdriver.chrome.options import Options\n",
    "import re\n",
    "from selenium.webdriver import Keys\n",
    "from selenium.webdriver.common.action_chains import ActionChains"
   ],
   "outputs": [],
   "execution_count": 68
  },
  {
   "cell_type": "markdown",
   "id": "af2a12ec",
   "metadata": {},
   "source": [
    "<h2 style=\"font-family: 'Vazir', Arial, sans-serif; color: white; text-align: center; margin-bottom: 20px; font-weight: bold;\">ساخت یه نمونه وب‌درایور و باز کردن مرورگر</h2>"
   ]
  },
  {
   "cell_type": "code",
   "id": "a4decd2c",
   "metadata": {
    "ExecuteTime": {
     "end_time": "2025-07-10T07:15:54.246067Z",
     "start_time": "2025-07-10T07:15:26.155995Z"
    }
   },
   "source": [
    "chrome_options = Options()\n",
    "chrome_options.add_argument(\"--start-maximized\")\n",
    "chrome_options.add_experimental_option(\"excludeSwitches\", [\"enable-automation\"])\n",
    "chrome_options.add_experimental_option('useAutomationExtension', False)\n",
    "user_agent = \"Mozilla/5.0 (Windows NT 10.0; Win64; x64) AppleWebKit/537.36 (KHTML, like Gecko) Chrome/126.0.0.0 Safari/537.36\"\n",
    "chrome_options.add_argument(f'user-agent={user_agent}')\n",
    "chrome_options.add_argument(\"--no-sandbox\")\n",
    "chrome_options.add_argument(\"--disable-dev-shm-usage\")\n",
    "chrome_options.add_argument(\"--disable-gpu\")\n",
    "driver = None\n",
    "try:\n",
    "    service = ChromeService(ChromeDriverManager().install())\n",
    "    driver = webdriver.Chrome(service=service, options=chrome_options)\n",
    "\n",
    "except Exception as e:\n",
    "    print(f\"An error occurred: {e}\")\n"
   ],
   "outputs": [],
   "execution_count": 69
  },
  {
   "cell_type": "code",
   "id": "c8c781de",
   "metadata": {
    "ExecuteTime": {
     "end_time": "2025-07-10T07:16:04.098855Z",
     "start_time": "2025-07-10T07:15:54.263517Z"
    }
   },
   "source": [
    "url = \"https://www.overstock.com/collections/jewelry-watches\"\n",
    "driver.get(url)\n",
    "time.sleep(3)"
   ],
   "outputs": [],
   "execution_count": 70
  },
  {
   "cell_type": "markdown",
   "id": "f4229ec3",
   "metadata": {},
   "source": [
    "<div style=\"font-family: 'Vazir', Arial, sans-serif; line-height: 1.6; max-width: 1200px; margin: 20px auto; color: white;  direction: rtl;\">\n",
    "    <link href=\"https://fonts.cdnfonts.com/css/vazir\" rel=\"stylesheet\">\n",
    "    <h2 style=\"font-family: 'Vazir', Arial, sans-serif; color: white; text-align: center; margin-bottom: 20px; font-weight: bold;\"> اسکرپینگ سایت overstock </h2>\n",
    "    <h3 style=\" font-family: 'Vazir', Arial, sans-serif;color: white; margin-bottom: 10px; font-weight: bold;\">توضیحات وظیفه</h3>\n",
    "    <ul style=\"font-family: 'Vazir', Arial, sans-serif; padding-right: 20px; margin-bottom: 20px; color: #d4d4d4;\">\n",
    "        <li><strong>بخش مورد اسکرپ:</strong> jewelry-watches </li>\n",
    "        <li><strong>هدف:</strong> اسکرپ کردن قیمت، متن بالای قیمت (color, size, leght , ...)، آیا sale هست یا نه، url عکس هر آیتم و این آگهی‌ها توسط چه کسی ثبت شده(اسم بعد از هر by) هر کدوم از آیتم‌های جواهرات </li>\n",
    "        <li><strong>نکته:</strong>عکس‌ها رو دانلود نکنید فقط url آنها را ذخیره کنید</li>\n",
    "    </ul>\n",
    "    <img src=\"images/overstock.png\" alt=\"بخش پرفروش‌ها از سایت G2A\" style=\"max-width: 100%; height: auto; display: block; margin: 20px auto;\">\n",
    "    \n",
    "</div>"
   ]
  },
  {
   "cell_type": "code",
   "id": "e89ea731",
   "metadata": {
    "ExecuteTime": {
     "end_time": "2025-07-10T07:16:05.213816Z",
     "start_time": "2025-07-10T07:16:04.124206Z"
    }
   },
   "source": [
    "# prices in each item\n",
    "prices = driver.find_elements(By.CLASS_NAME, \"_priceWrapper_tt671_44\")\n",
    "temp = prices.copy()\n",
    "pattern = r\"\\$\\d+,?\\d*,?\\d*\\.?\\d*\"\n",
    "for i, price_tag in enumerate(prices):\n",
    "    match = re.search(pattern, price_tag.text)\n",
    "    if match:\n",
    "        price_string = match.group(0)\n",
    "        print(price_string)\n",
    "        prices[i] = price_string\n",
    "print(len(prices))"
   ],
   "outputs": [
    {
     "name": "stdout",
     "output_type": "stream",
     "text": [
      "$91.34\n",
      "$279.99\n",
      "$1,253.52\n",
      "$135.19\n",
      "$21.19\n",
      "$74.09\n",
      "$12.82\n",
      "$51.99\n",
      "$62.54\n",
      "$182.39\n",
      "$192.84\n",
      "$88.34\n",
      "$548.99\n",
      "$79.79\n",
      "$85.49\n",
      "$1,312.99\n",
      "$62.99\n",
      "$39.99\n",
      "$214.45\n",
      "$102.12\n",
      "$43.69\n",
      "$174.49\n",
      "$55.49\n",
      "$60.79\n",
      "$13.84\n",
      "$49.99\n",
      "$35.62\n",
      "$77.89\n",
      "$55.99\n",
      "$78.84\n",
      "$32.29\n",
      "$79.49\n",
      "$205.67\n",
      "$227.99\n",
      "$16.05\n",
      "$49.99\n",
      "$139.04\n",
      "$39.99\n",
      "$2,425.99\n",
      "$83.49\n",
      "$518.49\n",
      "$39.49\n",
      "$52.49\n",
      "$119.99\n",
      "$278.99\n",
      "$23.29\n",
      "$12.15\n",
      "$196.64\n",
      "$39.52\n",
      "$108.29\n",
      "$87.11\n",
      "$196.49\n",
      "$29.59\n",
      "$354.82\n",
      "$54.62\n",
      "$59.49\n",
      "$34.67\n",
      "$612.99\n",
      "$112.49\n",
      "$39.99\n",
      "$305.57\n",
      "$14.69\n",
      "$83.59\n",
      "$1,857.59\n",
      "$46.07\n",
      "$64.99\n",
      "$66.99\n",
      "$1,017.99\n",
      "$27.99\n",
      "$89.99\n",
      "$11.55\n",
      "$20.09\n",
      "72\n"
     ]
    }
   ],
   "execution_count": 71
  },
  {
   "cell_type": "code",
   "id": "f3aec8d5",
   "metadata": {
    "ExecuteTime": {
     "end_time": "2025-07-10T07:16:06.974985Z",
     "start_time": "2025-07-10T07:16:05.233869Z"
    }
   },
   "source": [
    "# text above of prices\n",
    "text_above_of_price = driver.find_elements(By.CLASS_NAME, \"_optionsText_tt671_32\")\n",
    "for i, taop in enumerate(text_above_of_price):\n",
    "    text_above_of_price[i] = taop.text\n",
    "    print(text_above_of_price[i])"
   ],
   "outputs": [
    {
     "name": "stdout",
     "output_type": "stream",
     "text": [
      "20 Sizes\n",
      "\n",
      "13 Sizes / 3 Metal Colors\n",
      "\n",
      "\n",
      "2 Lengths\n",
      "5 Lengths\n",
      "6 Lengths\n",
      "9 Sizes\n",
      "\n",
      "\n",
      "\n",
      "\n",
      "\n",
      "\n",
      "11 Sizes / 3 Metal Colors\n",
      "13 Sizes\n",
      "\n",
      "\n",
      "\n",
      "2 Lengths\n",
      "\n",
      "\n",
      "\n",
      "4 Lengths\n",
      "\n",
      "\n",
      "\n",
      "2 Lengths\n",
      "\n",
      "\n",
      "2 Colors\n",
      "\n",
      "\n",
      "4 Sizes / 8 Letters\n",
      "5 Colors\n",
      "11 Sizes\n",
      "\n",
      "\n",
      "5 Lengths\n",
      "5 Lengths\n",
      "6 Lengths\n",
      "5 Sizes\n",
      "\n",
      "11 Sizes / 3 Metal Colors\n",
      "5 Lengths\n",
      "\n",
      "\n",
      "\n",
      "3 Metal Colors / 15 Sizes\n",
      "3 Lengths / 2 Colors / 3 Sizes\n",
      "5 Sizes\n",
      "\n",
      "11 Sizes / 3 Metal Colors\n",
      "\n",
      "15 Sizes\n",
      "\n",
      "11 Sizes / 3 Metal Colors\n",
      "13 Sizes\n",
      "\n",
      "1 Stone Color / 13 Sizes\n",
      "3 Metal Colors\n",
      "\n",
      "11 Sizes / 3 Metal Colors\n",
      "8 Lengths\n",
      "\n",
      "5 Sizes\n",
      "9 Sizes\n",
      "6 Stone Colors / 3 Sizes\n",
      "6 Lengths\n",
      "3 Metal Colors\n",
      "4 Lengths\n"
     ]
    }
   ],
   "execution_count": 72
  },
  {
   "cell_type": "code",
   "id": "cdbf24f3",
   "metadata": {
    "ExecuteTime": {
     "end_time": "2025-07-10T07:16:20.335578Z",
     "start_time": "2025-07-10T07:16:06.999063Z"
    }
   },
   "source": [
    "# images url\n",
    "max_attempts = 500\n",
    "attempts = 0\n",
    "\n",
    "while attempts < max_attempts:\n",
    "    ActionChains(driver).send_keys(Keys.ARROW_DOWN).perform()\n",
    "    time.sleep(0.01)\n",
    "    attempts += 1\n",
    "\n",
    "image_urls = driver.find_elements(By.CSS_SELECTOR, \" div._imageContainer_1vu9a_1 > img\")\n",
    "for i, image_url in enumerate(image_urls):\n",
    "    image_urls[i] = image_url.get_attribute(\"src\")\n",
    "    print(image_urls[i])\n",
    "print(len(image_urls))"
   ],
   "outputs": [
    {
     "name": "stdout",
     "output_type": "stream",
     "text": [
      "https://ak1.ostkcdn.com/images/products/is/images/direct/d346339372658cb0ed35966f9a4460b06c81f000/Braided-1-8ct-TDW-Diamond-Ring-in-Sterling-Silver-by-Miadora.jpg?imwidth=480&impolicy=medium\n",
      "https://ak1.ostkcdn.com/images/products/is/images/direct/4e1c425cfb19cbc8f70b56422a08b7e0b215c949/Christian-Van-Sant-Men%27s-Monarchy-Black-Dial-Watch---CV8140.jpg?imwidth=480&impolicy=medium\n",
      "https://ak1.ostkcdn.com/images/products/is/images/direct/ab173651cdc0cbe4c25dad649a6dca9ccd516b27/Certified-3.40Ct-Round-Cut-Diamond-Engagement-Ring-Gold-Lab-Grown.jpg?imwidth=480&impolicy=medium\n",
      "https://ak1.ostkcdn.com/images/products/24307864/L29740664.jpg?imwidth=480&impolicy=medium\n",
      "https://ak1.ostkcdn.com/images/products/20959807/L26757769.jpg?imwidth=480&impolicy=medium\n",
      "https://ak1.ostkcdn.com/images/products/is/images/direct/8bb604ea05e0ff452caefe38bc6da65a2507349f/18-or-24-Inch-7.5-8-MM-Cultured-FW-Pearl-Single-Strand-Necklace-with-Sterling-Silver-FE-Clasp-by-Miadora.jpg?imwidth=480&impolicy=medium\n",
      "https://ak1.ostkcdn.com/images/products/is/images/direct/7181fb6b6011a507b4eedd7e290c8962d4755171/Sterling-Silver-2-mm-Curb-Chain-Neclace-by-Roberto-Martinez.jpg?imwidth=480&impolicy=medium\n",
      "https://ak1.ostkcdn.com/images/products/is/images/direct/591a98c6a6a77cd7c595c850015892eb9f076762/14k-Solid-Yellow-Gold-Filled-2.5-millimeter-Paper-Clip-Capsule-Link-Chain-Necklace-for-Women.jpg?imwidth=480&impolicy=medium\n",
      "https://ak1.ostkcdn.com/images/products/is/images/direct/5ce1d6634a37d73256e3fc24961dc502b890bf53/Miadora-Baguette-%26-Square-Created-Blue-%26-White-Sapphire-Stackable-Eternity-Band-in-Sterling-Silver.jpg?imwidth=480&impolicy=medium\n",
      "https://ak1.ostkcdn.com/images/products/is/images/direct/f2b5d4fbc35ff129a9fa2d9de0bfa6d5b22627bd/Miadora-Sterling-Silver-3ct-TGW-Created-Moissanite-Inside-Outside-Hoop-Earrings.jpg?imwidth=480&impolicy=medium\n",
      "https://ak1.ostkcdn.com/images/products/is/images/direct/9571c5c4d535cc20a86da19544f805bcb2a6de6f/Eternally-Yours-4ct-DEW-Oval-Created-Moissanite-Stud-Earrings-in-Sterling-Silver.jpg?imwidth=480&impolicy=medium\n",
      "https://ak1.ostkcdn.com/images/products/is/images/direct/fcff673ce118cfd58c89b71da06bd70558802a3f/Miadora-8-9mm-Cultured-Freshwater-Pearl-Strand-Necklace.jpg?imwidth=480&impolicy=medium\n",
      "https://ak1.ostkcdn.com/images/products/is/images/direct/49243592bfc06a14293a7efdb1a15db58b153c54/Miadora-14k-White-Gold-Created-Moissanite-Solitaire-Leverback-Earrings.jpg?imwidth=480&impolicy=medium\n",
      "https://ak1.ostkcdn.com/images/products/is/images/direct/90586c41b0c23d9c65d6078b4188b2aee24e5d14/Miadora-7-7.5mm-Multicolor-Cultured-Freshwater-Pearl-Endless-Necklace---36-in.jpg?imwidth=480&impolicy=medium\n",
      "https://ak1.ostkcdn.com/images/products/is/images/direct/a1b75dd365ab95931bad8d161dc0cd3991c2740b/Miadora-10k-Yellow-Gold-White-Cultured-Freshwater-Pearl-Necklace-%285.5-6mm%29.jpg?imwidth=480&impolicy=medium\n",
      "https://ak1.ostkcdn.com/images/products/is/images/direct/e74f5f445067857d224e7aa005d5637b17dec5b3/3Ct-Oval-Diamond-Engagement-Camellia-Ring-Gold-Lab-Grown.jpg?imwidth=480&impolicy=medium\n",
      "https://ak1.ostkcdn.com/images/products/is/images/direct/6f2ca50df966e65ec6e4bec821f9da97ce58f70e/Rectangular-5-5-8-ct.-Green-Amethyst---White-Topaz-Sterling-Silver-Cocktail-Ring-by-Miadora.jpg?imwidth=480&impolicy=medium\n",
      "https://ak1.ostkcdn.com/images/products/is/images/direct/ceb21aacdb99c9c3d17691dc8efc5e3859d0e28a/Juvell-Gold-Plated-Cubic-Zirconia-Popcorn-Mesh-Cuff.jpg?imwidth=480&impolicy=medium\n",
      "https://ak1.ostkcdn.com/images/products/9214631/L16384392.jpg?imwidth=480&impolicy=medium\n",
      "https://ak1.ostkcdn.com/images/products/4058444/L12076195.jpg?imwidth=480&impolicy=medium\n",
      "https://ak1.ostkcdn.com/images/products/is/images/direct/a56a5a220083f191a4aa0dd239d654458d80f969/6-7-MM-Cultured-FW-Pearl-Necklace-with-Sterling-Silver-Fish-Eye-Clasp-by-Miadora.jpg?imwidth=480&impolicy=medium\n",
      "https://ak1.ostkcdn.com/images/products/is/images/direct/7aa434f938e47949cba57144f4bbaa357c1c1ec7/Miadora-Sterling-Silver-1-2ct-TDW-Diamond-Inside-Outside-Hoop-Earrings---18-mm-x-1.8-mm-x-18-mm.jpg?imwidth=480&impolicy=medium\n",
      "https://ak1.ostkcdn.com/images/products/is/images/direct/34b30d0b4e82a1be699918ab128e232345f57e45/Miadora-7.5-8mm-Cultured-Freshwater-Pearl-Strand-Necklace.jpg?imwidth=480&impolicy=medium\n",
      "https://ak1.ostkcdn.com/images/products/9477808/L16659472.jpg?imwidth=480&impolicy=medium\n",
      "https://ak1.ostkcdn.com/images/products/is/images/direct/197f2bb33e38790974634e3c91c8b2baab7ccd69/Victoria-Townsend-.925-Sterling-Silver-1.0-MM-Diamond-Cut-BOX-Necklace..jpg?imwidth=480&impolicy=medium\n",
      "https://ak1.ostkcdn.com/images/products/is/images/direct/fb1a62f2d5cfb189a626c76839fc006bea5675b7/Juvell-GoldT-Two-Tone-Plated-Cubic-Zirconia-Heart-Bangle.jpg?imwidth=480&impolicy=medium\n",
      "https://ak1.ostkcdn.com/images/products/is/images/direct/abb4d6e915aac0a4b7152271566d7abd9fdaf55f/Miadora-4-8mm-Multi-Color-Cultured-Freshwater-Pearl-Endless-Necklace---72-in..jpg?imwidth=480&impolicy=medium\n",
      "https://ak1.ostkcdn.com/images/products/is/images/direct/91136bddc84f4074077386261f03ee6fda6f8163/Miadora-Sterling-Silver-Cultured-Freshwater-Pearl-and-White-Topaz-Multi-Chain-Necklace-%2811-12-MM%29.jpg?imwidth=480&impolicy=medium\n",
      "https://ak1.ostkcdn.com/images/products/is/images/direct/d29bcd64131562ca1c165a915ae4ad438305561e/Miadora-Sterling-Silver-5-6-mm-Cultured-Freshwater-Pearl-Necklace-%2818-or-24-inch%29.jpg?imwidth=480&impolicy=medium\n",
      "https://ak1.ostkcdn.com/images/products/is/images/direct/da2f600b5cadec676f14557bf44e705ec50152e5/Miadora-5.5-6mm-Cultured-Freshwater-Pearl-Station-10k-White-Gold.jpg?imwidth=480&impolicy=medium\n",
      "https://ak1.ostkcdn.com/images/products/is/images/direct/0abb296da050c6e8d756f7b19303ca53d6d0f04b/Miadora-3-9.5mm-Multi-Color-Cultured-Freshwater-Pearl-Endless-Necklace---72-in..jpg?imwidth=480&impolicy=medium\n",
      "https://ak1.ostkcdn.com/images/products/3804500/L11864740.jpg?imwidth=480&impolicy=medium\n",
      "https://ak1.ostkcdn.com/images/products/is/images/direct/0cc90394343db5e9c52213630d8ac312048b75b6/Miadora-Sterling-Silver-5-5-8ct-TGW-Moissanite-Tennis-Bracelet.jpg?imwidth=480&impolicy=medium\n",
      "https://ak1.ostkcdn.com/images/products/is/images/direct/5e5b1fdb750df703dede315b2d05d8016437e749/1-2-cttw-Round-Cut-Diamond-Studs-White-Gold-Womens-Earrings.jpg?imwidth=480&impolicy=medium\n",
      "https://ak1.ostkcdn.com/images/products/is/images/direct/13d9af46922ff67993d76e91dc7fd9eae6028fc8/Victoria-Townsend-Yellow-Gold-over-Sterling-Silver-and-Cubic-Zirconia-Script-Initial-Ring..jpg?imwidth=480&impolicy=medium\n",
      "https://ak1.ostkcdn.com/images/products/is/images/direct/3cfb32399a72d86c1ef9dec3f693c0a5679d74f3/iTouch-Air-4-Men%27s-Smartwatch---Fitness-Tracker%2C-Heart-Rate-Monitor%2C-Customizable-Watch-Face---100%2B-Sports-Modes---Bluetooth.jpg?imwidth=480&impolicy=medium\n",
      "https://ak1.ostkcdn.com/images/products/is/images/direct/e8f24c62387984eeb28dd01f90b3913c4d225359/Diamond-Wedding-Ring-Yellow-Gold-Stackable-Anniversary-Band.jpg?imwidth=480&impolicy=medium\n",
      "https://ak1.ostkcdn.com/images/products/is/images/direct/6be0be530b65d4a5d296e5aa69fd55958078f583/Juvell-18K-Plated-Cubic-Zirconia-Popcorn-Mesh-Cuff-Bracelet.jpg?imwidth=480&impolicy=medium\n",
      "https://ak1.ostkcdn.com/images/products/is/images/direct/151ee68e48ef3de1e7c0c0344692c818ea23a50b/Certified-6.00Ct-H-VS-Radiant-Cut-Diamond-Engagement-Ring-White-Gold-Lab-Grown.jpg?imwidth=480&impolicy=medium\n",
      "https://ak1.ostkcdn.com/images/products/3261756/L11367938.jpg?imwidth=480&impolicy=medium\n",
      "https://ak1.ostkcdn.com/images/products/is/images/direct/96d60c0c0ce2d0377fd9d38d39d8afa9a5b1a1a8/Solid-14k-Yellow-Gold-Filled-7-millimeter-Double-Curb-Link-Chain-Necklace-For-Men-and-Women.jpg?imwidth=480&impolicy=medium\n",
      "https://ak1.ostkcdn.com/images/products/is/images/direct/4ea71ddfa945befa1a852764df7675f0760f97b9/Solid-14k-Yellow-Gold-Filled-2-millimeter-Singapore-Chain-Pendant-Necklace-For-Women-%2816---30-inches%29.jpg?imwidth=480&impolicy=medium\n",
      "https://ak1.ostkcdn.com/images/products/12174889/L19025917.jpg?imwidth=480&impolicy=medium\n",
      "https://ak1.ostkcdn.com/images/products/is/images/direct/ab507e0205a7d5707c512109929a0660298024ef/14K-Yellow-Gold-Shiny-Diamond-Cut-Engraved-Hoop-Earrings-%2814mm%29.jpg?imwidth=480&impolicy=medium\n",
      "https://ak1.ostkcdn.com/images/products/is/images/direct/8faf62e6d0c8359a31187bf92489cc58c9e43629/Emerald-Diamond-Stackable-Wedding-Ring-Women%27s-Anniversary-Band-Gold.jpg?imwidth=480&impolicy=medium\n",
      "https://ak1.ostkcdn.com/images/products/is/images/direct/e35103cbde600ad58a3148a0dcb223ecb4a7b719/Sterling-Silver-1.5-mm-Wheat-Chain-Necklace-by-Roberto-Martinez.jpg?imwidth=480&impolicy=medium\n",
      "https://ak1.ostkcdn.com/images/products/is/images/direct/63e3b5f4fad1aa8941988c3a1cceed64de6dcf3b/Victoria-Townsend-Yellow-Gold-Curb-Link-Bracelet.jpg?imwidth=480&impolicy=medium\n",
      "https://ak1.ostkcdn.com/images/products/25607503/L30918466.jpg?imwidth=480&impolicy=medium\n",
      "https://ak1.ostkcdn.com/images/products/is/images/direct/e4338e5ad128c8add19f63f921ebf9975e21fbcb/Miadora-2ct-TGW-Created-White-Sapphire-Stud-Earrings-Sterling-Silver.jpg?imwidth=480&impolicy=medium\n",
      "https://ak1.ostkcdn.com/images/products/5618221/L13377105.jpg?imwidth=480&impolicy=medium\n",
      "https://ak1.ostkcdn.com/images/products/6561597/L14139904.jpg?imwidth=480&impolicy=medium\n",
      "https://ak1.ostkcdn.com/images/products/7660480/L15073984.jpg?imwidth=480&impolicy=medium\n",
      "https://ak1.ostkcdn.com/images/products/is/images/direct/093370cfb3265c16cd97b07ebca2248135ff56df/Miadora-Yellow-Sterling-Silver-1-4-5ct-TGW-Amethyst-and-White-Topaz-Flower-Stud-Earrings.jpg?imwidth=480&impolicy=medium\n",
      "https://ak1.ostkcdn.com/images/products/is/images/direct/4db6e6e21201514b5d03acdd4a2e8951b4d4b55a/1-2Ct-Pave-Diamond-Wedding-Anniversary-Stackable-Ring-Gold-Lab-Grown.jpg?imwidth=480&impolicy=medium\n",
      "https://ak1.ostkcdn.com/images/products/8166267/L15505994.jpg?imwidth=480&impolicy=medium\n",
      "https://ak1.ostkcdn.com/images/products/is/images/direct/691d4490cfa81c3256dfeb9659012fb99643dc29/4ct-TGW-Created-Blue-and-White-Sapphire-Diamond-Halo-Ring-in-Sterling-Silver-by-Miadora.jpg?imwidth=480&impolicy=medium\n",
      "https://ak1.ostkcdn.com/images/products/3540551/L11603697.jpg?imwidth=480&impolicy=medium\n",
      "https://ak1.ostkcdn.com/images/products/is/images/direct/620f7fd93e6152823cffa6d0998a3c5258ee5eb6/1-Ct-Emerald-Cut-Diamond-East-To-West-Wedding-Stackable-Ring-14k-Gold-Lab-Grown.jpg?imwidth=480&impolicy=medium\n",
      "https://ak1.ostkcdn.com/images/products/is/images/direct/001af1e1803767287d5b41fc27c29da435a5d2b6/Miadora-Sterling-Silver-Sky-Blue-Topaz-and-White-Sapphire-Rectangular-Halo-Ring.jpg?imwidth=480&impolicy=medium\n",
      "https://ak1.ostkcdn.com/images/products/is/images/direct/941b74831df1bfa972196a1554c572956f3d0841/Effy-Women%27s-925-Silver-Peach-Freshwater-Pearl-Bracelet.jpg?imwidth=480&impolicy=medium\n",
      "https://ak1.ostkcdn.com/images/products/is/images/direct/4d3c1e4a00f8c5f40d4e3ef76d182ace687cafb0/Miadora-10k-Yellow-Gold-Citrine%2C-Sapphire%2C-and-Diamond-Accent-Ring.jpg?imwidth=480&impolicy=medium\n",
      "https://ak1.ostkcdn.com/images/products/3339960/Sterling-Essentials-Sterling-Silver-9-inch-Dangling-Heart-Anklet-b65134d9-4abe-44ed-bd6e-8600d800abe2_1000.jpg?imwidth=480&impolicy=medium\n",
      "https://ak1.ostkcdn.com/images/products/is/images/direct/9cf4ccb1827489808dcf052b7d07ad007dde05ca/Miadora-Sterling-Silver-Created-White-Sapphire-Tennis-Bracelet.jpg?imwidth=480&impolicy=medium\n",
      "https://ak1.ostkcdn.com/images/products/is/images/direct/092588c4ff6454696e738c0d2772bc26777f53c0/5Ct-Princess-Cut-Diamond-Engagement-Matching-Wedding-Ring-Set-Gold-Lab-Grown.jpg?imwidth=480&impolicy=medium\n",
      "https://ak1.ostkcdn.com/images/products/12861686/L19623749.jpg?imwidth=480&impolicy=medium\n",
      "https://ak1.ostkcdn.com/images/products/is/images/direct/4840d4bd39ac11ac56a1c416af2bd484ca979a93/Effy-Women%27s-925-Silver-Diamond-Earrings.jpg?imwidth=480&impolicy=medium\n",
      "https://ak1.ostkcdn.com/images/products/is/images/direct/bf400e49b9e4fb769f9dc1665fefd024856f9d31/Sterling-Silver-2-ct-Created-Ruby-Solitaire-Ring.jpg?imwidth=480&impolicy=medium\n",
      "https://ak1.ostkcdn.com/images/products/is/images/direct/be5e0b8d2b748d920f4913ab0086c5389b4272c3/Miadora-10k-Yellow-Gold-Men%27s-1-2ct-TDW-Diamond-Wedding-Band.jpg?imwidth=480&impolicy=medium\n",
      "https://ak1.ostkcdn.com/images/products/is/images/direct/546521e3b6fd3c79de938b92f0347601bf72cc4d/Victoria-Townsend-.925-Sterling-Silver-Mesh-Ring-w-Bezel-Set-Cushion-Cut-Amethyst-Stone.jpg?imwidth=480&impolicy=medium\n",
      "https://ak1.ostkcdn.com/images/products/is/images/direct/a9e89167be4b5e20ee057b87e9be07adaecb8690/14k-Yellow-Gold-filled-Solid-Figaro-Link-Chain-Necklace.jpg?imwidth=480&impolicy=medium\n",
      "https://ak1.ostkcdn.com/images/products/8931171/Finesque-Diamond-Accent-Cross-Hoop-Earrings-69706b85-6f93-4571-ae0b-1769c1431267_1000.jpg?imwidth=480&impolicy=medium\n",
      "https://ak1.ostkcdn.com/images/products/2656194/d74d61a0-7c6a-4fc2-9cc8-1f1223d8e606_1000.jpg?imwidth=480&impolicy=medium\n",
      "72\n"
     ]
    }
   ],
   "execution_count": 73
  },
  {
   "cell_type": "code",
   "id": "8a2351cd",
   "metadata": {
    "ExecuteTime": {
     "end_time": "2025-07-10T07:16:21.316828Z",
     "start_time": "2025-07-10T07:16:20.384307Z"
    }
   },
   "source": [
    "# sale or no (true or false).if item have a sale return true, else return false\n",
    "sales = [\"SALE\" in t.text for t in temp]\n",
    "print(sales)"
   ],
   "outputs": [
    {
     "name": "stdout",
     "output_type": "stream",
     "text": [
      "[True, False, False, True, True, True, True, False, True, True, True, True, True, True, False, False, True, False, True, True, True, False, False, True, True, False, True, True, False, False, True, False, True, True, True, False, True, False, False, True, False, False, True, False, False, False, True, True, True, False, True, True, True, False, True, True, True, False, True, False, True, False, True, False, True, False, False, False, True, True, True, False]\n"
     ]
    }
   ],
   "execution_count": 74
  },
  {
   "cell_type": "code",
   "id": "4c5858e0",
   "metadata": {
    "ExecuteTime": {
     "end_time": "2025-07-10T07:16:22.154682Z",
     "start_time": "2025-07-10T07:16:21.342744Z"
    }
   },
   "source": [
    "# Who placed this ad?\n",
    "by_persons = driver.find_elements(By.XPATH, \"//p[@class='_brand_tt671_48']\")\n",
    "for i, person in enumerate(by_persons):\n",
    "    by_persons[i] = person.text\n",
    "    print(by_persons[i])"
   ],
   "outputs": [
    {
     "name": "stdout",
     "output_type": "stream",
     "text": [
      "by Miadora\n",
      "by Christian Van Sant\n",
      "by Overstock\n",
      "by Pinctore\n",
      "by Pinctore\n",
      "by Miadora\n",
      "by Roberto Martinez\n",
      "by Fremada\n",
      "by Miadora\n",
      "by Miadora\n",
      "by Eternally Yours\n",
      "by Miadora\n",
      "by Miadora\n",
      "by Miadora\n",
      "by Miadora\n",
      "by Overstock\n",
      "by Miadora\n",
      "by Juvell\n",
      "by Miadora\n",
      "by Miadora\n",
      "by Miadora\n",
      "by Miadora\n",
      "by Miadora\n",
      "by Miadora\n",
      "by Victoria Townsend\n",
      "by Juvell\n",
      "by Miadora\n",
      "by Miadora\n",
      "by Miadora\n",
      "by Miadora\n",
      "by Miadora\n",
      "by Miadora\n",
      "by Miadora\n",
      "by Overstock\n",
      "by Victoria Townsend\n",
      "by iTouch\n",
      "by Overstock\n",
      "by Juvell\n",
      "by Overstock\n",
      "by Fremada\n",
      "by Fremada\n",
      "by Fremada\n",
      "by Fremada\n",
      "by Marquee Jewels\n",
      "by Overstock\n",
      "by Roberto Martinez\n",
      "by Victoria Townsend\n",
      "by Miadora\n",
      "by Miadora\n",
      "by Miadora\n",
      "by Fremada\n",
      "by Fremada\n",
      "by Miadora\n",
      "by Overstock\n",
      "by August Steiner\n",
      "by Miadora\n",
      "by Miadora\n",
      "by Overstock\n",
      "by Miadora\n",
      "by EFFY\n",
      "by Miadora\n",
      "by Roberto Martinez\n",
      "by Miadora\n",
      "by Overstock\n",
      "by Fremada\n",
      "by EFFY\n",
      "by Oravo\n",
      "by Miadora\n",
      "by Victoria Townsend\n",
      "by Fremada\n",
      "by Victoria Townsend\n",
      "by Roberto Martinez\n"
     ]
    }
   ],
   "execution_count": 75
  },
  {
   "cell_type": "markdown",
   "id": "a902250f",
   "metadata": {},
   "source": [
    "<h2 style=\"font-family: 'Vazir', Arial, sans-serif; color: white; text-align: center; margin-bottom: 20px; font-weight: bold; direction: rtl;\">ذخیره کردن اطلاعات اسکرپ شده</h2>"
   ]
  },
  {
   "cell_type": "code",
   "id": "1413ba40",
   "metadata": {
    "ExecuteTime": {
     "end_time": "2025-07-10T07:16:22.182501Z",
     "start_time": "2025-07-10T07:16:22.172414Z"
    }
   },
   "source": [
    "# code for saving data that scraped\n",
    "list_jewelry_watches = []\n",
    "for i in range(len(prices)):\n",
    "    list_jewelry_watches.append([prices[i], text_above_of_price[i], image_urls[i], sales[i], by_persons[i]])\n",
    "with open('overstock.txt', 'w') as f:\n",
    "    for item in list_jewelry_watches:\n",
    "        f.write(str(item) + '\\n')"
   ],
   "outputs": [],
   "execution_count": 76
  },
  {
   "metadata": {
    "ExecuteTime": {
     "end_time": "2025-07-10T07:16:45.372619Z",
     "start_time": "2025-07-10T07:16:22.200301Z"
    }
   },
   "cell_type": "code",
   "source": [
    "if 'driver' in locals():\n",
    "    driver.quit()\n",
    "    print(\"Driver closed.\")"
   ],
   "id": "d413524fe2416c16",
   "outputs": [
    {
     "name": "stdout",
     "output_type": "stream",
     "text": [
      "Driver closed.\n"
     ]
    }
   ],
   "execution_count": 77
  }
 ],
 "metadata": {
  "kernelspec": {
   "display_name": "scraping_env",
   "language": "python",
   "name": "python3"
  },
  "language_info": {
   "name": "python",
   "version": "3.12.11"
  }
 },
 "nbformat": 4,
 "nbformat_minor": 5
}
