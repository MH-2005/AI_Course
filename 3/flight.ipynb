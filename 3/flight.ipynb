{
 "cells": [
  {
   "cell_type": "markdown",
   "id": "9c4757ea",
   "metadata": {},
   "source": [
    "<!DOCTYPE html>\n",
    "<html lang=\"fa\" dir=\"rtl\">\n",
    "<head>\n",
    "<meta charset=\"UTF-8\">\n",
    "<title>تمرین یادگیری ماشین - پیش‌بینی قیمت بلیط هواپیما</title>\n",
    "  <br>\n",
    "  <h2>انجام دهنده: محمدرضا حسن زاده</h2>\n",
    "  <br>\n",
    "<style>\n",
    "    * {\n",
    "        box-sizing: border-box;\n",
    "        margin: 0;\n",
    "        padding: 0;\n",
    "    }\n",
    "    body {\n",
    "        font-family: Arial, sans-serif;\n",
    "        line-height: 1.6;\n",
    "        margin: 20px;\n",
    "        direction: rtl;\n",
    "        text-align: right;\n",
    "        color: #2c3e50;\n",
    "    }\n",
    "    h1, h2, h3 {\n",
    "        color: #2c3e50;\n",
    "        text-align: right;\n",
    "        margin-bottom: 15px;\n",
    "    }\n",
    "    p {\n",
    "        text-align: right;\n",
    "        margin-bottom: 15px;\n",
    "        direction: rtl;\n",
    "    }\n",
    "    table {\n",
    "        width: 100%;\n",
    "        border-collapse: collapse;\n",
    "        margin: 20px 0;\n",
    "        direction: rtl;\n",
    "        text-align: right;\n",
    "    }\n",
    "    th, td {\n",
    "        border: 1px solid #ddd;\n",
    "        padding: 8px;\n",
    "        text-align: right;\n",
    "        direction: rtl;\n",
    "    }\n",
    "    th {\n",
    "        background-color: #f2f2f2;\n",
    "        color: #2c3e50;\n",
    "    }\n",
    "    ul, ol {\n",
    "        padding-right: 20px;\n",
    "        text-align: right;\n",
    "        direction: rtl;\n",
    "    }\n",
    "    li {\n",
    "        margin-bottom: 10px;\n",
    "        text-align: right;\n",
    "        direction: rtl;\n",
    "    }\n",
    "    code {\n",
    "        background-color: #f4f4f4;\n",
    "        padding: 2px 4px;\n",
    "        border-radius: 4px;\n",
    "        font-family: monospace;\n",
    "        direction: rtl; /* تغییر به rtl برای ادغام بهتر در متن فارسی */\n",
    "        display: inline;\n",
    "        unicode-bidi: plaintext; /* بهبود نمایش متن انگلیسی در متن فارسی */\n",
    "    }\n",
    "</style>\n",
    "</head>\n",
    "<body>\n",
    "<h1>تمرین یادگیری ماشین - پیش‌بینی قیمت بلیط هواپیما</h1>\n",
    "\n",
    "<h2>هدف</h2>\n",
    "<p>در این تمرین، شما باید دیتاست <code>flight_data.csv</code> را که شامل اطلاعات پروازهای داخلی ایران است، لود کنید، پیش‌پردازش مناسب انجام دهید، و دو مدل یادگیری ماشین برای پیش‌بینی قیمت بلیط (<code>price</code>) آموزش دهید. هدف این است که با پیش‌پردازش داده‌ها و انتخاب مدل‌های مناسب، بهترین عملکرد را در پیش‌بینی قیمت به دست آورید.</p>\n",
    "\n",
    "<h2>وظایف شما</h2>\n",
    "<ol>\n",
    "    <li>\n",
    "        <strong>لود دیتاست:</strong> دیتاست <code>flight_data.csv</code> را لود کنید.\n",
    "    </li>\n",
    "    <li>\n",
    "        <strong>پیش‌پردازش:</strong> پیش‌پردازش دلخواه خود را روی دیتاست انجام دهید تا داده‌ها برای آموزش مدل آماده شوند.\n",
    "    </li>\n",
    "    <li>\n",
    "        <strong>تقسیم داده‌ها:</strong> داده‌ها را به train و test تقسیم کنید.\n",
    "    </li>\n",
    "    <li>\n",
    "        <strong>آموزش مدل‌ها:</strong> دو مدل زیر را روی داده‌های پیش‌پردازش‌شده آموزش دهید:\n",
    "        <ul>\n",
    "            <li><strong>رگرسیون خطی:</strong> این مدل باید به‌صورت پیش‌فرض پیاده‌سازی شود.</li>\n",
    "            <li><strong>مدل دلخواه:</strong> یک مدل دیگر به انتخاب خودتان انتخاب کنید و آموزش دهید.</li>\n",
    "        </ul>\n",
    "    </li>\n",
    "    <li>\n",
    "        <strong>ارزیابی مدل‌ها:</strong> برای هر مدل، معیارهای زیر را روی داده‌های تست محاسبه و چاپ کنید:\n",
    "        <ul>\n",
    "            <li><strong>RMSE (Root Mean Squared Error):</strong> میانگین مربعات خطا.</li>\n",
    "            <li><strong>R² Score:</strong> ضریب تعیین (میزان توضیح‌دهندگی مدل).</li>\n",
    "        </ul>\n",
    "    </li>\n",
    "</ol>\n",
    "\n",
    "<h2>توضیحات ستون‌های دیتاست</h2>\n",
    "<table>\n",
    "    <tr>\n",
    "        <th>ستون</th>\n",
    "        <th>توضیح</th>\n",
    "    </tr>\n",
    "    <tr>\n",
    "        <td><code>airline</code></td>\n",
    "        <td>نام شرکت هواپیمایی (مانند IranAir، Mahan، Aseman)</td>\n",
    "    </tr>\n",
    "    <tr>\n",
    "        <td><code>flight</code></td>\n",
    "        <td>کد پرواز (مثلاً SG-8709)</td>\n",
    "    </tr>\n",
    "    <tr>\n",
    "        <td><code>source_city</code></td>\n",
    "        <td>شهر مبدا (مانند Tehran، Mashhad، Shiraz)</td>\n",
    "    </tr>\n",
    "    <tr>\n",
    "        <td><code>departure_time</code></td>\n",
    "        <td>زمان حرکت (مانند Morning، Evening)</td>\n",
    "    </tr>\n",
    "    <tr>\n",
    "        <td><code>stops</code></td>\n",
    "        <td>تعداد توقف‌ها (zero، one، two_or_more)</td>\n",
    "    </tr>\n",
    "    <tr>\n",
    "        <td><code>arrival_time</code></td>\n",
    "        <td>زمان رسیدن (مانند Night، Afternoon)</td>\n",
    "    </tr>\n",
    "    <tr>\n",
    "        <td><code>destination_city</code></td>\n",
    "        <td>شهر مقصد (مانند Tehran، Mashhad، Shiraz)</td>\n",
    "    </tr>\n",
    "    <tr>\n",
    "        <td><code>class</code></td>\n",
    "        <td>کلاس پرواز (Economy، Business)</td>\n",
    "    </tr>\n",
    "    <tr>\n",
    "        <td><code>duration</code></td>\n",
    "        <td>مدت زمان پرواز (به ساعت)</td>\n",
    "    </tr>\n",
    "    <tr>\n",
    "        <td><code>days_left</code></td>\n",
    "        <td>تعداد روزهای باقی‌مانده تا پرواز</td>\n",
    "    </tr>\n",
    "    <tr>\n",
    "        <td><code>price</code></td>\n",
    "        <td>قیمت بلیط (هدف پیش‌بینی)</td>\n",
    "    </tr>\n",
    "    <tr>\n",
    "        <td><code>flight_rating</code></td>\n",
    "        <td>امتیاز پرواز (بین 0 تا 5)</td>\n",
    "    </tr>\n",
    "</table>\n",
    "\n",
    "\n",
    "<h2>نکات مهم</h2>\n",
    "<ul>\n",
    "    <li>دیتاست را به train و test تقسیم کنید.</li>\n",
    "    <li>برای مدل دوم، یک مدل به انتخاب خودتان استفاده کنید.</li>\n",
    "    <li>معیارهای RMSE و R² را روی داده‌های test چاپ کنید.</li>\n",
    "</ul>\n",
    "\n",
    "<h2>تحویل پروژه</h2>\n",
    "<p>فایل نوت‌بوک خود (<code>.ipynb</code>) را که شامل کد، پیش‌پردازش، آموزش مدل‌ها، و نتایج (RMSE و R²) است، ارسال کنید. توضیحات مختصری درباره پیش‌پردازش انجام‌شده و دلیل انتخاب روش‌هایتان بنویسید.</p>\n",
    "\n",
    "</body>\n",
    "</html>"
   ]
  },
  {
   "cell_type": "code",
   "execution_count": 1,
   "id": "4d63b918259626ba",
   "metadata": {
    "ExecuteTime": {
     "end_time": "2025-07-17T12:56:29.367357Z",
     "start_time": "2025-07-17T12:56:27.538842Z"
    }
   },
   "outputs": [],
   "source": [
    "import pandas as pd\n",
    "import numpy as np\n",
    "from sklearn.model_selection import train_test_split\n",
    "from sklearn.preprocessing import OneHotEncoder, StandardScaler\n",
    "from sklearn.compose import ColumnTransformer\n",
    "from sklearn.pipeline import Pipeline\n",
    "from sklearn.linear_model import LinearRegression\n",
    "from sklearn.ensemble import RandomForestRegressor\n",
    "from sklearn.metrics import mean_squared_error, r2_score\n",
    "import seaborn as sns\n",
    "import matplotlib.pyplot as plt\n"
   ]
  },
  {
   "cell_type": "markdown",
   "id": "44e1c0f7",
   "metadata": {},
   "source": [
    "<div style=\"direction: rtl; text-align: right; font-family: Tahoma, sans-serif;\">\n",
    "<h1></h1>\n",
    "<h2>مرحله اول</h2>\n",
    "\n",
    "فایل داده مورد نیاز `flight_data.csv` است. آن را بارگذاری و تحلیل و پیش پردازش کنید.\n",
    "<br>\n",
    "</div>"
   ]
  },
  {
   "cell_type": "code",
   "execution_count": 2,
   "id": "9e868213",
   "metadata": {
    "ExecuteTime": {
     "end_time": "2025-07-17T12:56:30.755982Z",
     "start_time": "2025-07-17T12:56:29.438383Z"
    }
   },
   "outputs": [
    {
     "data": {
      "text/html": [
       "<div>\n",
       "<style scoped>\n",
       "    .dataframe tbody tr th:only-of-type {\n",
       "        vertical-align: middle;\n",
       "    }\n",
       "\n",
       "    .dataframe tbody tr th {\n",
       "        vertical-align: top;\n",
       "    }\n",
       "\n",
       "    .dataframe thead th {\n",
       "        text-align: right;\n",
       "    }\n",
       "</style>\n",
       "<table border=\"1\" class=\"dataframe\">\n",
       "  <thead>\n",
       "    <tr style=\"text-align: right;\">\n",
       "      <th></th>\n",
       "      <th>Unnamed: 0</th>\n",
       "      <th>airline</th>\n",
       "      <th>flight</th>\n",
       "      <th>source_city</th>\n",
       "      <th>departure_time</th>\n",
       "      <th>stops</th>\n",
       "      <th>arrival_time</th>\n",
       "      <th>destination_city</th>\n",
       "      <th>class</th>\n",
       "      <th>duration</th>\n",
       "      <th>days_left</th>\n",
       "      <th>price</th>\n",
       "      <th>flight_rating</th>\n",
       "    </tr>\n",
       "  </thead>\n",
       "  <tbody>\n",
       "    <tr>\n",
       "      <th>0</th>\n",
       "      <td>148417</td>\n",
       "      <td>Mahan</td>\n",
       "      <td>AI-424</td>\n",
       "      <td>Isfahan</td>\n",
       "      <td>Afternoon</td>\n",
       "      <td>one</td>\n",
       "      <td>Morning</td>\n",
       "      <td>Ahvaz</td>\n",
       "      <td>Economy</td>\n",
       "      <td>19.42</td>\n",
       "      <td>6</td>\n",
       "      <td>13524.0 Toman</td>\n",
       "      <td>NaN</td>\n",
       "    </tr>\n",
       "    <tr>\n",
       "      <th>1</th>\n",
       "      <td>36879</td>\n",
       "      <td>Aseman</td>\n",
       "      <td>6E-2193</td>\n",
       "      <td>Tehran</td>\n",
       "      <td>Afternoon</td>\n",
       "      <td>two_or_more</td>\n",
       "      <td>Night</td>\n",
       "      <td>Ahvaz</td>\n",
       "      <td>Economy</td>\n",
       "      <td>7.00</td>\n",
       "      <td>13</td>\n",
       "      <td>335092.2874845413 Toman</td>\n",
       "      <td>NaN</td>\n",
       "    </tr>\n",
       "    <tr>\n",
       "      <th>2</th>\n",
       "      <td>274531</td>\n",
       "      <td>Mahan</td>\n",
       "      <td>AI-768</td>\n",
       "      <td>Isfahan</td>\n",
       "      <td>Afternoon</td>\n",
       "      <td>one</td>\n",
       "      <td>Afternoon</td>\n",
       "      <td>Ahvaz</td>\n",
       "      <td>Business</td>\n",
       "      <td>NaN</td>\n",
       "      <td>44</td>\n",
       "      <td>55983.0 Toman</td>\n",
       "      <td>NaN</td>\n",
       "    </tr>\n",
       "    <tr>\n",
       "      <th>3</th>\n",
       "      <td>166397</td>\n",
       "      <td>IranAir</td>\n",
       "      <td>UK-876</td>\n",
       "      <td>Tabriz</td>\n",
       "      <td>Night</td>\n",
       "      <td>one</td>\n",
       "      <td>Early_Morning</td>\n",
       "      <td>Shiraz</td>\n",
       "      <td>Economy</td>\n",
       "      <td>10.25</td>\n",
       "      <td>11</td>\n",
       "      <td>7927.0 Toman</td>\n",
       "      <td>NaN</td>\n",
       "    </tr>\n",
       "    <tr>\n",
       "      <th>4</th>\n",
       "      <td>272722</td>\n",
       "      <td>IranAir</td>\n",
       "      <td>UK-774</td>\n",
       "      <td>Isfahan</td>\n",
       "      <td>Night</td>\n",
       "      <td>one</td>\n",
       "      <td>Night</td>\n",
       "      <td>Ahvaz</td>\n",
       "      <td>Business</td>\n",
       "      <td>26.50</td>\n",
       "      <td>5</td>\n",
       "      <td>55502.0 Toman</td>\n",
       "      <td>1.497224</td>\n",
       "    </tr>\n",
       "  </tbody>\n",
       "</table>\n",
       "</div>"
      ],
      "text/plain": [
       "   Unnamed: 0  airline   flight source_city departure_time        stops  \\\n",
       "0      148417    Mahan   AI-424     Isfahan      Afternoon          one   \n",
       "1       36879   Aseman  6E-2193      Tehran      Afternoon  two_or_more   \n",
       "2      274531    Mahan   AI-768     Isfahan      Afternoon          one   \n",
       "3      166397  IranAir   UK-876      Tabriz          Night          one   \n",
       "4      272722  IranAir   UK-774     Isfahan          Night          one   \n",
       "\n",
       "    arrival_time destination_city     class  duration  days_left  \\\n",
       "0        Morning            Ahvaz   Economy     19.42          6   \n",
       "1          Night            Ahvaz   Economy      7.00         13   \n",
       "2      Afternoon            Ahvaz  Business       NaN         44   \n",
       "3  Early_Morning           Shiraz   Economy     10.25         11   \n",
       "4          Night            Ahvaz  Business     26.50          5   \n",
       "\n",
       "                     price  flight_rating  \n",
       "0            13524.0 Toman            NaN  \n",
       "1  335092.2874845413 Toman            NaN  \n",
       "2            55983.0 Toman            NaN  \n",
       "3             7927.0 Toman            NaN  \n",
       "4            55502.0 Toman       1.497224  "
      ]
     },
     "metadata": {},
     "output_type": "display_data"
    },
    {
     "name": "stdout",
     "output_type": "stream",
     "text": [
      "<class 'pandas.core.frame.DataFrame'>\n",
      "RangeIndex: 240122 entries, 0 to 240121\n",
      "Data columns (total 13 columns):\n",
      " #   Column            Non-Null Count   Dtype  \n",
      "---  ------            --------------   -----  \n",
      " 0   Unnamed: 0        240122 non-null  int64  \n",
      " 1   airline           240122 non-null  object \n",
      " 2   flight            240122 non-null  object \n",
      " 3   source_city       240122 non-null  object \n",
      " 4   departure_time    240122 non-null  object \n",
      " 5   stops             240122 non-null  object \n",
      " 6   arrival_time      240122 non-null  object \n",
      " 7   destination_city  240122 non-null  object \n",
      " 8   class             240122 non-null  object \n",
      " 9   duration          217334 non-null  float64\n",
      " 10  days_left         240122 non-null  int64  \n",
      " 11  price             240122 non-null  object \n",
      " 12  flight_rating     48024 non-null   float64\n",
      "dtypes: float64(2), int64(2), object(9)\n",
      "memory usage: 23.8+ MB\n"
     ]
    },
    {
     "data": {
      "text/plain": [
       "None"
      ]
     },
     "metadata": {},
     "output_type": "display_data"
    },
    {
     "data": {
      "text/html": [
       "<div>\n",
       "<style scoped>\n",
       "    .dataframe tbody tr th:only-of-type {\n",
       "        vertical-align: middle;\n",
       "    }\n",
       "\n",
       "    .dataframe tbody tr th {\n",
       "        vertical-align: top;\n",
       "    }\n",
       "\n",
       "    .dataframe thead th {\n",
       "        text-align: right;\n",
       "    }\n",
       "</style>\n",
       "<table border=\"1\" class=\"dataframe\">\n",
       "  <thead>\n",
       "    <tr style=\"text-align: right;\">\n",
       "      <th></th>\n",
       "      <th>Unnamed: 0</th>\n",
       "      <th>duration</th>\n",
       "      <th>days_left</th>\n",
       "      <th>flight_rating</th>\n",
       "    </tr>\n",
       "  </thead>\n",
       "  <tbody>\n",
       "    <tr>\n",
       "      <th>count</th>\n",
       "      <td>240122.000000</td>\n",
       "      <td>217334.000000</td>\n",
       "      <td>240122.000000</td>\n",
       "      <td>48024.000000</td>\n",
       "    </tr>\n",
       "    <tr>\n",
       "      <th>mean</th>\n",
       "      <td>150051.917738</td>\n",
       "      <td>14.276686</td>\n",
       "      <td>26.011594</td>\n",
       "      <td>2.500352</td>\n",
       "    </tr>\n",
       "    <tr>\n",
       "      <th>std</th>\n",
       "      <td>86661.262885</td>\n",
       "      <td>12.989381</td>\n",
       "      <td>13.568291</td>\n",
       "      <td>1.444502</td>\n",
       "    </tr>\n",
       "    <tr>\n",
       "      <th>min</th>\n",
       "      <td>1.000000</td>\n",
       "      <td>-0.997629</td>\n",
       "      <td>1.000000</td>\n",
       "      <td>0.000024</td>\n",
       "    </tr>\n",
       "    <tr>\n",
       "      <th>25%</th>\n",
       "      <td>74966.250000</td>\n",
       "      <td>7.000000</td>\n",
       "      <td>15.000000</td>\n",
       "      <td>1.247855</td>\n",
       "    </tr>\n",
       "    <tr>\n",
       "      <th>50%</th>\n",
       "      <td>150012.000000</td>\n",
       "      <td>11.580000</td>\n",
       "      <td>26.000000</td>\n",
       "      <td>2.503204</td>\n",
       "    </tr>\n",
       "    <tr>\n",
       "      <th>75%</th>\n",
       "      <td>225122.750000</td>\n",
       "      <td>17.250000</td>\n",
       "      <td>38.000000</td>\n",
       "      <td>3.746327</td>\n",
       "    </tr>\n",
       "    <tr>\n",
       "      <th>max</th>\n",
       "      <td>300151.000000</td>\n",
       "      <td>99.986470</td>\n",
       "      <td>49.000000</td>\n",
       "      <td>4.999915</td>\n",
       "    </tr>\n",
       "  </tbody>\n",
       "</table>\n",
       "</div>"
      ],
      "text/plain": [
       "          Unnamed: 0       duration      days_left  flight_rating\n",
       "count  240122.000000  217334.000000  240122.000000   48024.000000\n",
       "mean   150051.917738      14.276686      26.011594       2.500352\n",
       "std     86661.262885      12.989381      13.568291       1.444502\n",
       "min         1.000000      -0.997629       1.000000       0.000024\n",
       "25%     74966.250000       7.000000      15.000000       1.247855\n",
       "50%    150012.000000      11.580000      26.000000       2.503204\n",
       "75%    225122.750000      17.250000      38.000000       3.746327\n",
       "max    300151.000000      99.986470      49.000000       4.999915"
      ]
     },
     "metadata": {},
     "output_type": "display_data"
    },
    {
     "data": {
      "text/plain": [
       "duration          22788\n",
       "flight_rating    192098\n",
       "dtype: int64"
      ]
     },
     "metadata": {},
     "output_type": "display_data"
    },
    {
     "name": "stdout",
     "output_type": "stream",
     "text": [
      "========================================\n",
      "duplicate Rows:\n"
     ]
    },
    {
     "data": {
      "text/plain": [
       "0"
      ]
     },
     "metadata": {},
     "output_type": "display_data"
    }
   ],
   "source": [
    "df = pd.read_csv('flight_data.csv')\n",
    "\n",
    "display(df.head())\n",
    "display(df.info())\n",
    "display(df.describe())\n",
    "df_null = df.isnull().sum()\n",
    "display(df_null[df_null > 0])\n",
    "print(\"========================================\\nduplicate Rows:\")\n",
    "display(int(df.duplicated().sum()))"
   ]
  },
  {
   "cell_type": "code",
   "execution_count": 3,
   "id": "4ca95b689b2b10e4",
   "metadata": {
    "ExecuteTime": {
     "end_time": "2025-07-17T12:56:31.411367Z",
     "start_time": "2025-07-17T12:56:31.303969Z"
    }
   },
   "outputs": [
    {
     "name": "stdout",
     "output_type": "stream",
     "text": [
      "duration         0.094902\n",
      "flight_rating    0.800002\n",
      "dtype: float64\n"
     ]
    }
   ],
   "source": [
    "print(df_null[df_null > 0]/df.shape[0])\n",
    "df.drop('flight_rating',axis = 1,inplace = True,errors = \"ignore\")\n",
    "# نزدیک به 80 درصد null هست پس بهترین کار حذف کامل ستون هست\n",
    "# برای duration سعی می کنیم خانه های خالی را پیدا کنیم"
   ]
  },
  {
   "cell_type": "code",
   "execution_count": 4,
   "id": "28de52a3eaccaa7d",
   "metadata": {
    "ExecuteTime": {
     "end_time": "2025-07-17T12:56:31.786229Z",
     "start_time": "2025-07-17T12:56:31.565848Z"
    }
   },
   "outputs": [
    {
     "data": {
      "text/html": [
       "<div>\n",
       "<style scoped>\n",
       "    .dataframe tbody tr th:only-of-type {\n",
       "        vertical-align: middle;\n",
       "    }\n",
       "\n",
       "    .dataframe tbody tr th {\n",
       "        vertical-align: top;\n",
       "    }\n",
       "\n",
       "    .dataframe thead th {\n",
       "        text-align: right;\n",
       "    }\n",
       "</style>\n",
       "<table border=\"1\" class=\"dataframe\">\n",
       "  <thead>\n",
       "    <tr style=\"text-align: right;\">\n",
       "      <th></th>\n",
       "      <th>airline</th>\n",
       "      <th>source_city</th>\n",
       "      <th>departure_time</th>\n",
       "      <th>stops</th>\n",
       "      <th>arrival_time</th>\n",
       "      <th>destination_city</th>\n",
       "      <th>class</th>\n",
       "      <th>duration</th>\n",
       "      <th>days_left</th>\n",
       "      <th>price</th>\n",
       "    </tr>\n",
       "  </thead>\n",
       "  <tbody>\n",
       "    <tr>\n",
       "      <th>0</th>\n",
       "      <td>Mahan</td>\n",
       "      <td>Isfahan</td>\n",
       "      <td>Afternoon</td>\n",
       "      <td>one</td>\n",
       "      <td>Morning</td>\n",
       "      <td>Ahvaz</td>\n",
       "      <td>Economy</td>\n",
       "      <td>19.42</td>\n",
       "      <td>6</td>\n",
       "      <td>13524.0 Toman</td>\n",
       "    </tr>\n",
       "    <tr>\n",
       "      <th>1</th>\n",
       "      <td>Aseman</td>\n",
       "      <td>Tehran</td>\n",
       "      <td>Afternoon</td>\n",
       "      <td>two_or_more</td>\n",
       "      <td>Night</td>\n",
       "      <td>Ahvaz</td>\n",
       "      <td>Economy</td>\n",
       "      <td>7.00</td>\n",
       "      <td>13</td>\n",
       "      <td>335092.2874845413 Toman</td>\n",
       "    </tr>\n",
       "    <tr>\n",
       "      <th>2</th>\n",
       "      <td>Mahan</td>\n",
       "      <td>Isfahan</td>\n",
       "      <td>Afternoon</td>\n",
       "      <td>one</td>\n",
       "      <td>Afternoon</td>\n",
       "      <td>Ahvaz</td>\n",
       "      <td>Business</td>\n",
       "      <td>NaN</td>\n",
       "      <td>44</td>\n",
       "      <td>55983.0 Toman</td>\n",
       "    </tr>\n",
       "    <tr>\n",
       "      <th>3</th>\n",
       "      <td>IranAir</td>\n",
       "      <td>Tabriz</td>\n",
       "      <td>Night</td>\n",
       "      <td>one</td>\n",
       "      <td>Early_Morning</td>\n",
       "      <td>Shiraz</td>\n",
       "      <td>Economy</td>\n",
       "      <td>10.25</td>\n",
       "      <td>11</td>\n",
       "      <td>7927.0 Toman</td>\n",
       "    </tr>\n",
       "    <tr>\n",
       "      <th>4</th>\n",
       "      <td>IranAir</td>\n",
       "      <td>Isfahan</td>\n",
       "      <td>Night</td>\n",
       "      <td>one</td>\n",
       "      <td>Night</td>\n",
       "      <td>Ahvaz</td>\n",
       "      <td>Business</td>\n",
       "      <td>26.50</td>\n",
       "      <td>5</td>\n",
       "      <td>55502.0 Toman</td>\n",
       "    </tr>\n",
       "    <tr>\n",
       "      <th>5</th>\n",
       "      <td>IranAir</td>\n",
       "      <td>Ahvaz</td>\n",
       "      <td>Afternoon</td>\n",
       "      <td>one</td>\n",
       "      <td>Evening</td>\n",
       "      <td>Tehran</td>\n",
       "      <td>Economy</td>\n",
       "      <td>5.58</td>\n",
       "      <td>24</td>\n",
       "      <td>5206.0 Toman</td>\n",
       "    </tr>\n",
       "    <tr>\n",
       "      <th>6</th>\n",
       "      <td>IranAir</td>\n",
       "      <td>Mashhad</td>\n",
       "      <td>Morning</td>\n",
       "      <td>one</td>\n",
       "      <td>Afternoon</td>\n",
       "      <td>Tehran</td>\n",
       "      <td>Economy</td>\n",
       "      <td>4.92</td>\n",
       "      <td>24</td>\n",
       "      <td>5232.0 Toman</td>\n",
       "    </tr>\n",
       "    <tr>\n",
       "      <th>7</th>\n",
       "      <td>IranAir</td>\n",
       "      <td>Shiraz</td>\n",
       "      <td>Night</td>\n",
       "      <td>one</td>\n",
       "      <td>Evening</td>\n",
       "      <td>Isfahan</td>\n",
       "      <td>Business</td>\n",
       "      <td>NaN</td>\n",
       "      <td>35</td>\n",
       "      <td>62188.0 Toman</td>\n",
       "    </tr>\n",
       "    <tr>\n",
       "      <th>8</th>\n",
       "      <td>QeshmAir</td>\n",
       "      <td>Ahvaz</td>\n",
       "      <td>Night</td>\n",
       "      <td>one</td>\n",
       "      <td>Early_Morning</td>\n",
       "      <td>Isfahan</td>\n",
       "      <td>Economy</td>\n",
       "      <td>8.42</td>\n",
       "      <td>31</td>\n",
       "      <td>7312.0 Toman</td>\n",
       "    </tr>\n",
       "    <tr>\n",
       "      <th>9</th>\n",
       "      <td>Mahan</td>\n",
       "      <td>Tehran</td>\n",
       "      <td>Early_Morning</td>\n",
       "      <td>one</td>\n",
       "      <td>Early_Morning</td>\n",
       "      <td>Ahvaz</td>\n",
       "      <td>Economy</td>\n",
       "      <td>24.33</td>\n",
       "      <td>15</td>\n",
       "      <td>4251.0 Toman</td>\n",
       "    </tr>\n",
       "  </tbody>\n",
       "</table>\n",
       "</div>"
      ],
      "text/plain": [
       "    airline source_city departure_time        stops   arrival_time  \\\n",
       "0     Mahan     Isfahan      Afternoon          one        Morning   \n",
       "1    Aseman      Tehran      Afternoon  two_or_more          Night   \n",
       "2     Mahan     Isfahan      Afternoon          one      Afternoon   \n",
       "3   IranAir      Tabriz          Night          one  Early_Morning   \n",
       "4   IranAir     Isfahan          Night          one          Night   \n",
       "5   IranAir       Ahvaz      Afternoon          one        Evening   \n",
       "6   IranAir     Mashhad        Morning          one      Afternoon   \n",
       "7   IranAir      Shiraz          Night          one        Evening   \n",
       "8  QeshmAir       Ahvaz          Night          one  Early_Morning   \n",
       "9     Mahan      Tehran  Early_Morning          one  Early_Morning   \n",
       "\n",
       "  destination_city     class  duration  days_left                    price  \n",
       "0            Ahvaz   Economy     19.42          6            13524.0 Toman  \n",
       "1            Ahvaz   Economy      7.00         13  335092.2874845413 Toman  \n",
       "2            Ahvaz  Business       NaN         44            55983.0 Toman  \n",
       "3           Shiraz   Economy     10.25         11             7927.0 Toman  \n",
       "4            Ahvaz  Business     26.50          5            55502.0 Toman  \n",
       "5           Tehran   Economy      5.58         24             5206.0 Toman  \n",
       "6           Tehran   Economy      4.92         24             5232.0 Toman  \n",
       "7          Isfahan  Business       NaN         35            62188.0 Toman  \n",
       "8          Isfahan   Economy      8.42         31             7312.0 Toman  \n",
       "9            Ahvaz   Economy     24.33         15             4251.0 Toman  "
      ]
     },
     "metadata": {},
     "output_type": "display_data"
    },
    {
     "name": "stdout",
     "output_type": "stream",
     "text": [
      "<class 'pandas.core.frame.DataFrame'>\n",
      "RangeIndex: 240122 entries, 0 to 240121\n",
      "Data columns (total 10 columns):\n",
      " #   Column            Non-Null Count   Dtype  \n",
      "---  ------            --------------   -----  \n",
      " 0   airline           240122 non-null  object \n",
      " 1   source_city       240122 non-null  object \n",
      " 2   departure_time    240122 non-null  object \n",
      " 3   stops             240122 non-null  object \n",
      " 4   arrival_time      240122 non-null  object \n",
      " 5   destination_city  240122 non-null  object \n",
      " 6   class             240122 non-null  object \n",
      " 7   duration          217334 non-null  float64\n",
      " 8   days_left         240122 non-null  int64  \n",
      " 9   price             240122 non-null  object \n",
      "dtypes: float64(1), int64(1), object(8)\n",
      "memory usage: 18.3+ MB\n"
     ]
    },
    {
     "data": {
      "text/plain": [
       "None"
      ]
     },
     "metadata": {},
     "output_type": "display_data"
    }
   ],
   "source": [
    "df.drop('Unnamed: 0',axis = 1,inplace = True,errors = \"ignore\")\n",
    "df.drop('flight',axis = 1,inplace = True,errors = \"ignore\")\n",
    "display(df.head(n = 10))\n",
    "display(df.info())"
   ]
  },
  {
   "cell_type": "code",
   "execution_count": 5,
   "id": "521ca38a14bdebe2",
   "metadata": {
    "ExecuteTime": {
     "end_time": "2025-07-17T12:56:32.569942Z",
     "start_time": "2025-07-17T12:56:31.899548Z"
    }
   },
   "outputs": [],
   "source": [
    "df['price'] = df['price'].str.split(' ').str[0].astype('float')"
   ]
  },
  {
   "cell_type": "code",
   "execution_count": 6,
   "id": "8771085bdb1973ef",
   "metadata": {
    "ExecuteTime": {
     "end_time": "2025-07-17T12:56:32.990138Z",
     "start_time": "2025-07-17T12:56:32.606969Z"
    }
   },
   "outputs": [
    {
     "data": {
      "text/plain": [
       "airline\n",
       "IranAir     102452\n",
       "Mahan        64558\n",
       "Aseman       34468\n",
       "QeshmAir     18556\n",
       "Caspian      12848\n",
       "Zagros        7240\n",
       "Name: count, dtype: int64"
      ]
     },
     "metadata": {},
     "output_type": "display_data"
    },
    {
     "name": "stdout",
     "output_type": "stream",
     "text": [
      "=================================\n"
     ]
    },
    {
     "data": {
      "text/plain": [
       "source_city\n",
       "Tehran     49067\n",
       "Mashhad    48711\n",
       "Shiraz     41641\n",
       "Isfahan    37182\n",
       "Tabriz     32569\n",
       "Ahvaz      30952\n",
       "Name: count, dtype: int64"
      ]
     },
     "metadata": {},
     "output_type": "display_data"
    },
    {
     "name": "stdout",
     "output_type": "stream",
     "text": [
      "=================================\n"
     ]
    },
    {
     "data": {
      "text/plain": [
       "departure_time\n",
       "Morning          57137\n",
       "Early_Morning    53509\n",
       "Evening          52063\n",
       "Night            38227\n",
       "Afternoon        38160\n",
       "Late_Night        1026\n",
       "Name: count, dtype: int64"
      ]
     },
     "metadata": {},
     "output_type": "display_data"
    },
    {
     "name": "stdout",
     "output_type": "stream",
     "text": [
      "=================================\n"
     ]
    },
    {
     "data": {
      "text/plain": [
       "stops\n",
       "one            200570\n",
       "zero            28887\n",
       "two_or_more     10665\n",
       "Name: count, dtype: int64"
      ]
     },
     "metadata": {},
     "output_type": "display_data"
    },
    {
     "name": "stdout",
     "output_type": "stream",
     "text": [
      "=================================\n"
     ]
    },
    {
     "data": {
      "text/plain": [
       "arrival_time\n",
       "Night            73438\n",
       "Evening          62637\n",
       "Morning          50146\n",
       "Afternoon        30456\n",
       "Early_Morning    12330\n",
       "Late_Night       11115\n",
       "Name: count, dtype: int64"
      ]
     },
     "metadata": {},
     "output_type": "display_data"
    },
    {
     "name": "stdout",
     "output_type": "stream",
     "text": [
      "=================================\n"
     ]
    },
    {
     "data": {
      "text/plain": [
       "destination_city\n",
       "Mashhad    47309\n",
       "Tehran     45814\n",
       "Shiraz     40989\n",
       "Isfahan    39601\n",
       "Tabriz     34091\n",
       "Ahvaz      32318\n",
       "Name: count, dtype: int64"
      ]
     },
     "metadata": {},
     "output_type": "display_data"
    },
    {
     "name": "stdout",
     "output_type": "stream",
     "text": [
      "=================================\n"
     ]
    },
    {
     "data": {
      "text/plain": [
       "class\n",
       "Economy     165350\n",
       "Business     74772\n",
       "Name: count, dtype: int64"
      ]
     },
     "metadata": {},
     "output_type": "display_data"
    },
    {
     "name": "stdout",
     "output_type": "stream",
     "text": [
      "=================================\n"
     ]
    }
   ],
   "source": [
    "for col in df.columns:\n",
    "    if df[col].dtype == 'object':\n",
    "        display(df[col].value_counts())\n",
    "        print(\"=================================\")\n",
    "        df[col] = df[col].astype('category')"
   ]
  },
  {
   "cell_type": "code",
   "execution_count": 7,
   "id": "f9cd1bbb9131e118",
   "metadata": {
    "ExecuteTime": {
     "end_time": "2025-07-17T12:56:36.785284Z",
     "start_time": "2025-07-17T12:56:33.360379Z"
    }
   },
   "outputs": [
    {
     "data": {
      "image/png": "[encoded data removed]",
      "text/plain": [
       "<Figure size 600x150 with 1 Axes>"
      ]
     },
     "metadata": {},
     "output_type": "display_data"
    },
    {
     "data": {
      "image/png": "[encoded data removed]",
      "text/plain": [
       "<Figure size 600x150 with 1 Axes>"
      ]
     },
     "metadata": {},
     "output_type": "display_data"
    },
    {
     "data": {
      "image/png": "[encoded data removed]",
      "text/plain": [
       "<Figure size 600x150 with 1 Axes>"
      ]
     },
     "metadata": {},
     "output_type": "display_data"
    }
   ],
   "source": [
    "for col in df.select_dtypes(include='number').columns:\n",
    "    plt.figure(figsize=(6, 1.5))\n",
    "    sns.boxplot(x=df[col])\n",
    "    plt.title(f'Boxplot for {col}')\n",
    "    plt.tight_layout()\n",
    "    plt.show()"
   ]
  },
  {
   "cell_type": "code",
   "execution_count": 8,
   "id": "d6b755d4dff13893",
   "metadata": {
    "ExecuteTime": {
     "end_time": "2025-07-17T12:56:37.031911Z",
     "start_time": "2025-07-17T12:56:36.884320Z"
    }
   },
   "outputs": [],
   "source": [
    "def remove_outliers_iqr(df, cols):\n",
    "    df_clean = df.copy()\n",
    "    for col in cols:\n",
    "        Q1 = df_clean[col].quantile(0.25)\n",
    "        Q3 = df_clean[col].quantile(0.75)\n",
    "        IQR = Q3 - Q1\n",
    "        lower_bound = Q1 - 1.5 * IQR\n",
    "        upper_bound = Q3 + 1.5 * IQR\n",
    "        df_clean = df_clean[(df_clean[col] >= lower_bound) & (df_clean[col] <= upper_bound)]\n",
    "    return df_clean\n",
    "\n",
    "\n",
    "numeric_cols = df.select_dtypes(include='number').columns\n",
    "df = remove_outliers_iqr(df, numeric_cols)"
   ]
  },
  {
   "cell_type": "code",
   "execution_count": 9,
   "id": "bdf79474be11e2f7",
   "metadata": {
    "ExecuteTime": {
     "end_time": "2025-07-17T12:56:38.297883Z",
     "start_time": "2025-07-17T12:56:37.058463Z"
    }
   },
   "outputs": [
    {
     "data": {
      "image/png": "[encoded data removed]",
      "text/plain": [
       "<Figure size 600x150 with 1 Axes>"
      ]
     },
     "metadata": {},
     "output_type": "display_data"
    },
    {
     "data": {
      "image/png": "[encoded data removed]",
      "text/plain": [
       "<Figure size 600x150 with 1 Axes>"
      ]
     },
     "metadata": {},
     "output_type": "display_data"
    },
    {
     "data": {
      "image/png": "[encoded data removed]",
      "text/plain": [
       "<Figure size 600x150 with 1 Axes>"
      ]
     },
     "metadata": {},
     "output_type": "display_data"
    }
   ],
   "source": [
    "for col in df.select_dtypes(include='number').columns:\n",
    "    plt.figure(figsize=(6, 1.5))\n",
    "    sns.boxplot(x=df[col])\n",
    "    plt.title(f'Boxplot for {col}')\n",
    "    plt.tight_layout()\n",
    "    plt.show()"
   ]
  },
  {
   "cell_type": "code",
   "execution_count": 10,
   "id": "64bfc6b7990693f7",
   "metadata": {
    "ExecuteTime": {
     "end_time": "2025-07-17T12:56:38.367717Z",
     "start_time": "2025-07-17T12:56:38.346188Z"
    }
   },
   "outputs": [
    {
     "name": "stdout",
     "output_type": "stream",
     "text": [
      "<class 'pandas.core.frame.DataFrame'>\n",
      "Index: 200487 entries, 0 to 240121\n",
      "Data columns (total 10 columns):\n",
      " #   Column            Non-Null Count   Dtype   \n",
      "---  ------            --------------   -----   \n",
      " 0   airline           200487 non-null  category\n",
      " 1   source_city       200487 non-null  category\n",
      " 2   departure_time    200487 non-null  category\n",
      " 3   stops             200487 non-null  category\n",
      " 4   arrival_time      200487 non-null  category\n",
      " 5   destination_city  200487 non-null  category\n",
      " 6   class             200487 non-null  category\n",
      " 7   duration          200487 non-null  float64 \n",
      " 8   days_left         200487 non-null  int64   \n",
      " 9   price             200487 non-null  float64 \n",
      "dtypes: category(7), float64(2), int64(1)\n",
      "memory usage: 7.5 MB\n"
     ]
    }
   ],
   "source": [
    "df.info()"
   ]
  },
  {
   "cell_type": "code",
   "execution_count": 11,
   "id": "b0fe4a4006ce52ee",
   "metadata": {
    "ExecuteTime": {
     "end_time": "2025-07-17T12:56:38.460269Z",
     "start_time": "2025-07-17T12:56:38.412553Z"
    }
   },
   "outputs": [
    {
     "name": "stdout",
     "output_type": "stream",
     "text": [
      "<class 'pandas.core.frame.DataFrame'>\n",
      "Index: 60147 entries, 181065 to 93108\n",
      "Data columns (total 10 columns):\n",
      " #   Column            Non-Null Count  Dtype   \n",
      "---  ------            --------------  -----   \n",
      " 0   airline           60147 non-null  category\n",
      " 1   source_city       60147 non-null  category\n",
      " 2   departure_time    60147 non-null  category\n",
      " 3   stops             60147 non-null  category\n",
      " 4   arrival_time      60147 non-null  category\n",
      " 5   destination_city  60147 non-null  category\n",
      " 6   class             60147 non-null  category\n",
      " 7   duration          60147 non-null  float64 \n",
      " 8   days_left         60147 non-null  int64   \n",
      " 9   price             60147 non-null  float64 \n",
      "dtypes: category(7), float64(2), int64(1)\n",
      "memory usage: 2.2 MB\n"
     ]
    }
   ],
   "source": [
    "df_known = df[df['duration'].notna()].copy()\n",
    "df_unknown = df[df['duration'].isna()].copy()\n",
    "\n",
    "df_known, test = train_test_split(\n",
    "    df_known,\n",
    "    test_size=0.3,\n",
    "    random_state=42\n",
    ")\n",
    "test.info()"
   ]
  },
  {
   "cell_type": "code",
   "execution_count": 12,
   "id": "81de5be3-25b0-4fe4-b47c-6986e319e312",
   "metadata": {
    "ExecuteTime": {
     "end_time": "2025-07-17T12:56:39.164607Z",
     "start_time": "2025-07-17T12:56:38.487556Z"
    }
   },
   "outputs": [],
   "source": [
    "categorical_features = df_known.select_dtypes(include=['category', 'object']).columns\n",
    "numerical_features = df_known.select_dtypes(include='number').drop('duration', axis=1, errors='ignore').columns\n",
    "\n",
    "numeric_transformer = Pipeline([\n",
    "    ('scaler', StandardScaler())\n",
    "])\n",
    "categorical_transformer = Pipeline([\n",
    "    ('onehot', OneHotEncoder(handle_unknown='ignore', drop='first'))\n",
    "])\n",
    "preprocessor = ColumnTransformer([\n",
    "    ('num', numeric_transformer, numerical_features),\n",
    "    ('cat', categorical_transformer, categorical_features)\n",
    "])\n",
    "\n",
    "X_train = df_known.drop('duration', axis=1)\n",
    "y_train = df_known['duration']\n",
    "\n",
    "model = Pipeline([\n",
    "    ('preprocess', preprocessor),\n",
    "    ('regressor', LinearRegression())\n",
    "])\n",
    "model.fit(X_train, y_train)\n",
    "\n",
    "X_missing = df_unknown.drop('duration', axis=1)\n",
    "if not X_missing.empty:\n",
    "    y_pred = model.predict(X_missing)\n",
    "    df.loc[df['duration'].isna(), 'duration'] = y_pred\n"
   ]
  },
  {
   "cell_type": "code",
   "execution_count": 13,
   "id": "f2280f2142f780a7",
   "metadata": {
    "ExecuteTime": {
     "end_time": "2025-07-17T12:56:39.397792Z",
     "start_time": "2025-07-17T12:56:39.272092Z"
    }
   },
   "outputs": [
    {
     "data": {
      "text/html": [
       "<div>\n",
       "<style scoped>\n",
       "    .dataframe tbody tr th:only-of-type {\n",
       "        vertical-align: middle;\n",
       "    }\n",
       "\n",
       "    .dataframe tbody tr th {\n",
       "        vertical-align: top;\n",
       "    }\n",
       "\n",
       "    .dataframe thead th {\n",
       "        text-align: right;\n",
       "    }\n",
       "</style>\n",
       "<table border=\"1\" class=\"dataframe\">\n",
       "  <thead>\n",
       "    <tr style=\"text-align: right;\">\n",
       "      <th></th>\n",
       "      <th>airline</th>\n",
       "      <th>source_city</th>\n",
       "      <th>departure_time</th>\n",
       "      <th>stops</th>\n",
       "      <th>arrival_time</th>\n",
       "      <th>destination_city</th>\n",
       "      <th>class</th>\n",
       "      <th>duration</th>\n",
       "      <th>days_left</th>\n",
       "      <th>price</th>\n",
       "    </tr>\n",
       "  </thead>\n",
       "  <tbody>\n",
       "    <tr>\n",
       "      <th>0</th>\n",
       "      <td>Mahan</td>\n",
       "      <td>Isfahan</td>\n",
       "      <td>Afternoon</td>\n",
       "      <td>one</td>\n",
       "      <td>Morning</td>\n",
       "      <td>Ahvaz</td>\n",
       "      <td>Economy</td>\n",
       "      <td>19.42</td>\n",
       "      <td>6</td>\n",
       "      <td>13524.0</td>\n",
       "    </tr>\n",
       "    <tr>\n",
       "      <th>3</th>\n",
       "      <td>IranAir</td>\n",
       "      <td>Tabriz</td>\n",
       "      <td>Night</td>\n",
       "      <td>one</td>\n",
       "      <td>Early_Morning</td>\n",
       "      <td>Shiraz</td>\n",
       "      <td>Economy</td>\n",
       "      <td>10.25</td>\n",
       "      <td>11</td>\n",
       "      <td>7927.0</td>\n",
       "    </tr>\n",
       "    <tr>\n",
       "      <th>4</th>\n",
       "      <td>IranAir</td>\n",
       "      <td>Isfahan</td>\n",
       "      <td>Night</td>\n",
       "      <td>one</td>\n",
       "      <td>Night</td>\n",
       "      <td>Ahvaz</td>\n",
       "      <td>Business</td>\n",
       "      <td>26.50</td>\n",
       "      <td>5</td>\n",
       "      <td>55502.0</td>\n",
       "    </tr>\n",
       "    <tr>\n",
       "      <th>5</th>\n",
       "      <td>IranAir</td>\n",
       "      <td>Ahvaz</td>\n",
       "      <td>Afternoon</td>\n",
       "      <td>one</td>\n",
       "      <td>Evening</td>\n",
       "      <td>Tehran</td>\n",
       "      <td>Economy</td>\n",
       "      <td>5.58</td>\n",
       "      <td>24</td>\n",
       "      <td>5206.0</td>\n",
       "    </tr>\n",
       "    <tr>\n",
       "      <th>6</th>\n",
       "      <td>IranAir</td>\n",
       "      <td>Mashhad</td>\n",
       "      <td>Morning</td>\n",
       "      <td>one</td>\n",
       "      <td>Afternoon</td>\n",
       "      <td>Tehran</td>\n",
       "      <td>Economy</td>\n",
       "      <td>4.92</td>\n",
       "      <td>24</td>\n",
       "      <td>5232.0</td>\n",
       "    </tr>\n",
       "  </tbody>\n",
       "</table>\n",
       "</div>"
      ],
      "text/plain": [
       "   airline source_city departure_time stops   arrival_time destination_city  \\\n",
       "0    Mahan     Isfahan      Afternoon   one        Morning            Ahvaz   \n",
       "3  IranAir      Tabriz          Night   one  Early_Morning           Shiraz   \n",
       "4  IranAir     Isfahan          Night   one          Night            Ahvaz   \n",
       "5  IranAir       Ahvaz      Afternoon   one        Evening           Tehran   \n",
       "6  IranAir     Mashhad        Morning   one      Afternoon           Tehran   \n",
       "\n",
       "      class  duration  days_left    price  \n",
       "0   Economy     19.42          6  13524.0  \n",
       "3   Economy     10.25         11   7927.0  \n",
       "4  Business     26.50          5  55502.0  \n",
       "5   Economy      5.58         24   5206.0  \n",
       "6   Economy      4.92         24   5232.0  "
      ]
     },
     "metadata": {},
     "output_type": "display_data"
    },
    {
     "name": "stdout",
     "output_type": "stream",
     "text": [
      "<class 'pandas.core.frame.DataFrame'>\n",
      "Index: 200487 entries, 0 to 240121\n",
      "Data columns (total 10 columns):\n",
      " #   Column            Non-Null Count   Dtype   \n",
      "---  ------            --------------   -----   \n",
      " 0   airline           200487 non-null  category\n",
      " 1   source_city       200487 non-null  category\n",
      " 2   departure_time    200487 non-null  category\n",
      " 3   stops             200487 non-null  category\n",
      " 4   arrival_time      200487 non-null  category\n",
      " 5   destination_city  200487 non-null  category\n",
      " 6   class             200487 non-null  category\n",
      " 7   duration          200487 non-null  float64 \n",
      " 8   days_left         200487 non-null  int64   \n",
      " 9   price             200487 non-null  float64 \n",
      "dtypes: category(7), float64(2), int64(1)\n",
      "memory usage: 7.5 MB\n"
     ]
    },
    {
     "data": {
      "text/plain": [
       "None"
      ]
     },
     "metadata": {},
     "output_type": "display_data"
    },
    {
     "data": {
      "text/plain": [
       "[]"
      ]
     },
     "metadata": {},
     "output_type": "display_data"
    },
    {
     "name": "stdout",
     "output_type": "stream",
     "text": [
      "========================================\n",
      "duplicate Rows:\n"
     ]
    },
    {
     "data": {
      "text/plain": [
       "940"
      ]
     },
     "metadata": {},
     "output_type": "display_data"
    }
   ],
   "source": [
    "display(df.head())\n",
    "display(df.info())\n",
    "df_null = df.isnull().sum()\n",
    "display(df_null[df_null > 0].tolist())\n",
    "print(\"========================================\\nduplicate Rows:\")\n",
    "display(int(df.duplicated().sum()))"
   ]
  },
  {
   "cell_type": "code",
   "execution_count": 14,
   "id": "f0ac6c19ecf56a8b",
   "metadata": {
    "ExecuteTime": {
     "end_time": "2025-07-17T12:56:39.751341Z",
     "start_time": "2025-07-17T12:56:39.660855Z"
    }
   },
   "outputs": [],
   "source": [
    "df.drop_duplicates(inplace=True)"
   ]
  },
  {
   "cell_type": "code",
   "execution_count": 15,
   "id": "4b17a3587f065ca3",
   "metadata": {
    "ExecuteTime": {
     "end_time": "2025-07-17T12:56:39.934953Z",
     "start_time": "2025-07-17T12:56:39.829749Z"
    }
   },
   "outputs": [
    {
     "name": "stdout",
     "output_type": "stream",
     "text": [
      "<class 'pandas.core.frame.DataFrame'>\n",
      "Index: 199547 entries, 0 to 240121\n",
      "Data columns (total 10 columns):\n",
      " #   Column            Non-Null Count   Dtype   \n",
      "---  ------            --------------   -----   \n",
      " 0   airline           199547 non-null  category\n",
      " 1   source_city       199547 non-null  category\n",
      " 2   departure_time    199547 non-null  category\n",
      " 3   stops             199547 non-null  category\n",
      " 4   arrival_time      199547 non-null  category\n",
      " 5   destination_city  199547 non-null  category\n",
      " 6   class             199547 non-null  category\n",
      " 7   duration          199547 non-null  float64 \n",
      " 8   days_left         199547 non-null  int64   \n",
      " 9   price             199547 non-null  float64 \n",
      "dtypes: category(7), float64(2), int64(1)\n",
      "memory usage: 7.4 MB\n"
     ]
    },
    {
     "data": {
      "text/plain": [
       "None"
      ]
     },
     "metadata": {},
     "output_type": "display_data"
    },
    {
     "data": {
      "text/plain": [
       "0"
      ]
     },
     "metadata": {},
     "output_type": "display_data"
    }
   ],
   "source": [
    "display(df.info())\n",
    "display(int(df.duplicated().sum()))"
   ]
  },
  {
   "cell_type": "code",
   "execution_count": 16,
   "id": "a0140c5a506365e1",
   "metadata": {
    "ExecuteTime": {
     "end_time": "2025-07-17T12:56:40.044245Z",
     "start_time": "2025-07-17T12:56:40.023264Z"
    }
   },
   "outputs": [
    {
     "name": "stdout",
     "output_type": "stream",
     "text": [
      "<class 'pandas.core.frame.DataFrame'>\n",
      "Index: 199547 entries, 0 to 240121\n",
      "Data columns (total 10 columns):\n",
      " #   Column            Non-Null Count   Dtype   \n",
      "---  ------            --------------   -----   \n",
      " 0   airline           199547 non-null  category\n",
      " 1   source_city       199547 non-null  category\n",
      " 2   departure_time    199547 non-null  category\n",
      " 3   stops             199547 non-null  category\n",
      " 4   arrival_time      199547 non-null  category\n",
      " 5   destination_city  199547 non-null  category\n",
      " 6   class             199547 non-null  category\n",
      " 7   duration          199547 non-null  float64 \n",
      " 8   days_left         199547 non-null  int64   \n",
      " 9   price             199547 non-null  float64 \n",
      "dtypes: category(7), float64(2), int64(1)\n",
      "memory usage: 7.4 MB\n"
     ]
    }
   ],
   "source": [
    "df.info()"
   ]
  },
  {
   "cell_type": "markdown",
   "id": "a123ca97",
   "metadata": {},
   "source": [
    "<div style=\"direction: rtl; text-align: right; font-family: Tahoma, sans-serif;\">\n",
    "<h1></h1>\n",
    "<h2></h2>\n",
    "<h3>مرحله 2:</h3>\n",
    "\n",
    "تقسیم داده به دو بخش آموزش و تست.\n",
    "<br>\n",
    "</div>"
   ]
  },
  {
   "cell_type": "code",
   "execution_count": 17,
   "id": "fb982b8dfc8fcf4b",
   "metadata": {
    "ExecuteTime": {
     "end_time": "2025-07-17T12:56:40.141930Z",
     "start_time": "2025-07-17T12:56:40.132487Z"
    }
   },
   "outputs": [],
   "source": [
    "X_test = test.drop('price', axis=1)\n",
    "y_test = test['price']"
   ]
  },
  {
   "cell_type": "code",
   "execution_count": 18,
   "id": "5c212fb1992bfa7c",
   "metadata": {
    "ExecuteTime": {
     "end_time": "2025-07-17T12:56:40.256682Z",
     "start_time": "2025-07-17T12:56:40.241117Z"
    }
   },
   "outputs": [],
   "source": [
    "X_train = df.drop('price', axis=1)\n",
    "y_train = df['price']"
   ]
  },
  {
   "cell_type": "markdown",
   "id": "e1658a72",
   "metadata": {},
   "source": [
    "<div style=\"direction: rtl; text-align: right; font-family: Tahoma, sans-serif;\">\n",
    "<h1></h1>\n",
    "<h2></h2>\n",
    "<h3>مرحله 3:</h3>\n",
    "\n",
    "ساخت دو مدل و ارزیابی آنها با RMSE و R2.\n",
    "<br>\n",
    "</div>"
   ]
  },
  {
   "cell_type": "code",
   "execution_count": 20,
   "id": "4c236a7f80d25f06",
   "metadata": {
    "ExecuteTime": {
     "end_time": "2025-07-17T12:59:48.451880Z",
     "start_time": "2025-07-17T12:59:47.631979Z"
    }
   },
   "outputs": [
    {
     "name": "stdout",
     "output_type": "stream",
     "text": [
      "RMSE: 8753.22\n",
      "R² Score: 0.8570\n"
     ]
    }
   ],
   "source": [
    "from sklearn.preprocessing import OrdinalEncoder\n",
    "\n",
    "stops_order = ['zero', 'one', 'two_or_more']\n",
    "class_order = ['Economy', 'Business']\n",
    "ordinal_features = ['stops', 'class']\n",
    "nominal_features = ['airline', 'source_city', 'departure_time', 'arrival_time', 'destination_city']\n",
    "\n",
    "numerical_features = X_train.select_dtypes(include='number').columns\n",
    "\n",
    "\n",
    "preprocessor = ColumnTransformer(\n",
    "    transformers=[\n",
    "        ('num', StandardScaler(), numerical_features),\n",
    "        ('ord', OrdinalEncoder(categories=[stops_order, class_order]), ordinal_features),\n",
    "        ('nom', OneHotEncoder(handle_unknown='ignore', drop='first', sparse_output=False), nominal_features)\n",
    "    ],\n",
    "    remainder='passthrough'\n",
    ")\n",
    "\n",
    "lr_pipeline = Pipeline(steps=[('preprocessor', preprocessor), ('regressor', LinearRegression())])\n",
    "lr_pipeline.fit(X_train, y_train)\n",
    "\n",
    "\n",
    "y_pred_lr = lr_pipeline.predict(X_test)\n",
    "\n",
    "rmse_lr = np.sqrt(mean_squared_error(y_test, y_pred_lr))\n",
    "r2_lr = r2_score(y_test, y_pred_lr)\n",
    "\n",
    "\n",
    "print(f\"RMSE: {rmse_lr:.2f}\")\n",
    "print(f\"R² Score: {r2_lr:.4f}\")"
   ]
  },
  {
   "cell_type": "code",
   "execution_count": 23,
   "id": "1710af6b4ec77214",
   "metadata": {
    "ExecuteTime": {
     "end_time": "2025-07-17T13:22:55.149241Z",
     "start_time": "2025-07-17T13:22:23.570248Z"
    }
   },
   "outputs": [
    {
     "name": "stdout",
     "output_type": "stream",
     "text": [
      "RMSE: 2722.18\n",
      "R² Score: 0.9862\n"
     ]
    },
    {
     "data": {
      "text/html": [
       "<div>\n",
       "<style scoped>\n",
       "    .dataframe tbody tr th:only-of-type {\n",
       "        vertical-align: middle;\n",
       "    }\n",
       "\n",
       "    .dataframe tbody tr th {\n",
       "        vertical-align: top;\n",
       "    }\n",
       "\n",
       "    .dataframe thead th {\n",
       "        text-align: right;\n",
       "    }\n",
       "</style>\n",
       "<table border=\"1\" class=\"dataframe\">\n",
       "  <thead>\n",
       "    <tr style=\"text-align: right;\">\n",
       "      <th></th>\n",
       "      <th>Model</th>\n",
       "      <th>RMSE</th>\n",
       "      <th>R² Score</th>\n",
       "    </tr>\n",
       "  </thead>\n",
       "  <tbody>\n",
       "    <tr>\n",
       "      <th>0</th>\n",
       "      <td>LinearRegression</td>\n",
       "      <td>8753.22</td>\n",
       "      <td>0.8570</td>\n",
       "    </tr>\n",
       "    <tr>\n",
       "      <th>1</th>\n",
       "      <td>RandomForestRegressor</td>\n",
       "      <td>2722.18</td>\n",
       "      <td>0.9862</td>\n",
       "    </tr>\n",
       "  </tbody>\n",
       "</table>\n",
       "</div>"
      ],
      "text/plain": [
       "                   Model     RMSE R² Score\n",
       "0       LinearRegression  8753.22   0.8570\n",
       "1  RandomForestRegressor  2722.18   0.9862"
      ]
     },
     "metadata": {},
     "output_type": "display_data"
    }
   ],
   "source": [
    "rf_pipeline = Pipeline(steps=[\n",
    "\n",
    "('preprocessor', preprocessor),\n",
    "\n",
    "('regressor', RandomForestRegressor(n_estimators=100, random_state=42, n_jobs=-1))\n",
    "\n",
    "])\n",
    "\n",
    "rf_pipeline.fit(X_train, y_train)\n",
    "y_pred_rf = rf_pipeline.predict(X_test)\n",
    "\n",
    "rmse_rf = np.sqrt(mean_squared_error(y_test, y_pred_rf))\n",
    "\n",
    "r2_rf = r2_score(y_test, y_pred_rf)\n",
    "\n",
    "print(f\"RMSE: {rmse_rf:.2f}\")\n",
    "\n",
    "print(f\"R² Score: {r2_rf:.4f}\")\n",
    "\n",
    "results = {\n",
    "    \"Model\": [\"LinearRegression\", \"RandomForestRegressor\"],\n",
    "    \"RMSE\": [f\"{rmse_lr:.2f}\", f\"{rmse_rf:.2f}\"],\n",
    "    \"R² Score\": [f\"{r2_lr:.4f}\", f\"{r2_rf:.4f}\"]\n",
    "}\n",
    "\n",
    "results_df = pd.DataFrame(results)\n",
    "display(results_df)"
   ]
  },
  {
   "cell_type": "code",
   "execution_count": 21,
   "id": "da6e884b4ed0aaea",
   "metadata": {
    "ExecuteTime": {
     "end_time": "2025-07-17T13:19:28.596522Z",
     "start_time": "2025-07-17T12:59:50.646505Z"
    }
   },
   "outputs": [
    {
     "name": "stdout",
     "output_type": "stream",
     "text": [
      "Fitting 3 folds for each of 10 candidates, totalling 30 fits\n",
      "{'regressor__n_estimators': 200, 'regressor__min_samples_split': 2, 'regressor__min_samples_leaf': 2, 'regressor__max_depth': None}\n",
      "RMSE: 4435.26\n",
      "R² Score: 0.9633\n"
     ]
    },
    {
     "data": {
      "text/html": [
       "<div>\n",
       "<style scoped>\n",
       "    .dataframe tbody tr th:only-of-type {\n",
       "        vertical-align: middle;\n",
       "    }\n",
       "\n",
       "    .dataframe tbody tr th {\n",
       "        vertical-align: top;\n",
       "    }\n",
       "\n",
       "    .dataframe thead th {\n",
       "        text-align: right;\n",
       "    }\n",
       "</style>\n",
       "<table border=\"1\" class=\"dataframe\">\n",
       "  <thead>\n",
       "    <tr style=\"text-align: right;\">\n",
       "      <th></th>\n",
       "      <th>Model</th>\n",
       "      <th>RMSE</th>\n",
       "      <th>R² Score</th>\n",
       "    </tr>\n",
       "  </thead>\n",
       "  <tbody>\n",
       "    <tr>\n",
       "      <th>0</th>\n",
       "      <td>LinearRegression</td>\n",
       "      <td>8753.22</td>\n",
       "      <td>0.8570</td>\n",
       "    </tr>\n",
       "    <tr>\n",
       "      <th>1</th>\n",
       "      <td>RandomForestRegressor</td>\n",
       "      <td>4435.26</td>\n",
       "      <td>0.9633</td>\n",
       "    </tr>\n",
       "  </tbody>\n",
       "</table>\n",
       "</div>"
      ],
      "text/plain": [
       "                   Model     RMSE R² Score\n",
       "0       LinearRegression  8753.22   0.8570\n",
       "1  RandomForestRegressor  4435.26   0.9633"
      ]
     },
     "metadata": {},
     "output_type": "display_data"
    }
   ],
   "source": [
    "from sklearn.model_selection import RandomizedSearchCV\n",
    "\n",
    "param_grid = {\n",
    "    'regressor__n_estimators': [100, 200],   \n",
    "    'regressor__max_depth': [10, 20, None],    \n",
    "    'regressor__min_samples_split': [2, 5],      \n",
    "    'regressor__min_samples_leaf': [1, 2]      \n",
    "}\n",
    "\n",
    "random_search = RandomizedSearchCV(\n",
    "    estimator=rf_pipeline,\n",
    "    param_distributions=param_grid,\n",
    "    n_iter=10,  \n",
    "    cv=3,\n",
    "    n_jobs=-1,\n",
    "    scoring='neg_mean_squared_error',\n",
    "    verbose=2,\n",
    "    random_state=42 \n",
    ")\n",
    "\n",
    "random_search.fit(X_train, y_train)\n",
    "\n",
    "print(random_search.best_params_)\n",
    "\n",
    "\n",
    "rf_model = random_search.best_estimator_\n",
    "\n",
    "y_pred_rf = rf_model.predict(X_test)\n",
    "\n",
    "rmse_rf = np.sqrt(mean_squared_error(y_test, y_pred_rf))\n",
    "r2_rf = r2_score(y_test, y_pred_rf)\n",
    "\n",
    "print(f\"RMSE: {rmse_rf:.2f}\")\n",
    "print(f\"R² Score: {r2_rf:.4f}\")\n",
    "\n",
    "results = {\n",
    "    \"Model\": [\"LinearRegression\", \"RandomForestRegressor\"],\n",
    "    \"RMSE\": [f\"{rmse_lr:.2f}\", f\"{rmse_rf:.2f}\"],\n",
    "    \"R² Score\": [f\"{r2_lr:.4f}\", f\"{r2_rf:.4f}\"]\n",
    "}\n",
    "\n",
    "results_df = pd.DataFrame(results)\n",
    "display(results_df)"
   ]
  },
  {
   "cell_type": "markdown",
   "id": "8d2ebbfcabe5311a",
   "metadata": {},
   "source": [
    "<div style=\"direction: rtl; text-align: right; border-right: 6px solid #007acc; padding: 20px; font-family: 'Vazirmatn', sans-serif; line-height: 1.8;\">\n",
    "\n",
    "  <p>در این پروژه، مجموعه داده‌ پروازها با هدف پیش‌بینی قیمت بلیط، به‌صورت مرحله‌ای آماده‌سازی و مدل‌سازی شده است:</p>\n",
    "\n",
    "  <ul style=\"margin-right: 18px; color: #ffffff;\">\n",
    "    <li><strong>حذف ستون‌های نامربوط:</strong> ستون‌های <code>flight</code>، <code>Unnamed: 0</code> و <code>flight_rating</code> به دلیل ناکارآمدی حذف شدند.</li>\n",
    "    <li><strong>حذف داده‌های گمشده و تکراری:</strong> بررسی کامل مقادیر خالی و حذف داده‌های پرت با روش <code>IQR</code> انجام شد.</li>\n",
    "    <li><strong>تبدیل ستون <code>price</code> به عدد:</strong> مقادیر متنی (با واحد پول) به عدد تبدیل شدند.</li>\n",
    "    <li><strong>رمزگذاری متغیرها:</strong> ویژگی‌های متنی اسمی با <code>OneHotEncoder</code> و ویژگی‌های ترتیبی با <code>OrdinalEncoder</code> رمزگذاری شدند.</li>\n",
    "    <li><strong>استانداردسازی ویژگی‌های عددی:</strong> با استفاده از <code>StandardScaler</code> مقیاس‌دهی انجام شد.</li>\n",
    "    <li><strong>پیش‌بینی مقادیر گمشده ستون <code>duration</code>:</strong> با مدل <code>Linear Regression</code> آموزش‌دیده بر داده‌های کامل، این مقادیر برآورد و جایگزین شدند.</li>\n",
    "    <li><strong>تقسیم داده‌ها:</strong> به نسبت ۷۰٪ آموزش و ۳۰٪ تست با <code>train_test_split</code></li>\n",
    "    <li><strong>مدل‌سازی:</strong> آموزش دو مدل <code>LinearRegression</code> و <code>RandomForestRegressor</code>، دومی با بهینه‌سازی پارامتر توسط <code>RandomizedSearchCV</code> نیز برسی شده.</li>\n",
    "  </ul>\n",
    "\n",
    "  <p>این فرایند باعث افزایش دقت مدل، کاهش نویز، و بهبود تعمیم‌پذیری پیش‌بینی نهایی شده است.</p>\n",
    "</div>\n"
   ]
  }
 ],
 "metadata": {
  "kernelspec": {
   "display_name": "Python [conda env:data-analysis-env]",
   "language": "python",
   "name": "conda-env-data-analysis-env-py"
  },
  "language_info": {
   "codemirror_mode": {
    "name": "ipython",
    "version": 3
   },
   "file_extension": ".py",
   "mimetype": "text/x-python",
   "name": "python",
   "nbconvert_exporter": "python",
   "pygments_lexer": "ipython3",
   "version": "3.13.2"
  }
 },
 "nbformat": 4,
 "nbformat_minor": 5
}
