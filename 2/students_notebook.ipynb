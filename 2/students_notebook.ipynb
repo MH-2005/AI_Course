{
 "cells": [
  {
   "cell_type": "markdown",
   "id": "db3c137f",
   "metadata": {},
   "source": [
    "<div style=\"direction: rtl; text-align: right; font-family: Vazirmatn, sans-serif;\">\n",
    "  <h1>تمرین پیش‌پردازش داده‌ها – گروه دوم - دانشجویان دوره آنلاین</h1>\n",
    "  <br>\n",
    "  <h2>انجام دهنده: محمدرضا حسن زاده</h2>\n",
    "  <br>\n",
    "</div>"
   ]
  },
  {
   "cell_type": "markdown",
   "id": "9d559563",
   "metadata": {},
   "source": [
    "<div style=\"direction: rtl; text-align: right; font-family: Tahoma, sans-serif;\">\n",
    "<h1></h1> \n",
    "<h2>مقدمه</h2>\n",
    "\n",
    "در این تمرین، داده‌های رفتاری کاربران پلتفرم آموزش آنلاین را پردازش کرده و آماده تحلیل می‌کنید.\n",
    " \n",
    " هر وظیفه شامل دو بخش کد و سوال تشریحی میباشد\n",
    "\n",
    " بعد از نوشتن کد برای پاسخ به بخش تشریحی متن پاسخ خودتون رو در آخر کد به صورت کامنت شده بنویسید \n",
    "\n",
    "<br>\n",
    "</div>"
   ]
  },
  {
   "cell_type": "markdown",
   "id": "4a3cea9e",
   "metadata": {},
   "source": [
    "<div style=\"direction: rtl; text-align: right; font-family: Tahoma, sans-serif;\">\n",
    "<h1></h1>\n",
    "<h2>فایل ورودی</h2>\n",
    "\n",
    "شما باید فایل `online_students.csv` را بارگذاری کرده و مراحل زیر را روی آن انجام دهید.\n",
    "<br>\n",
    "</div>"
   ]
  },
  {
   "cell_type": "markdown",
   "id": "c6bf0234",
   "metadata": {},
   "source": [
    "<div style=\"direction: rtl; text-align: right; font-family: Tahoma, sans-serif;\">\n",
    "<h1></h1>\n",
    "<h2>وظایف</h2>\n",
    "\n",
    "<br>\n",
    "</div>"
   ]
  },
  {
   "cell_type": "markdown",
   "id": "10c434cc",
   "metadata": {},
   "source": [
    "<div style=\"direction: rtl; text-align: right; font-family: Tahoma, sans-serif;\">\n",
    "<h3>وظیفه 0:</h3>\n",
    "\n",
    "وارد کردن کتابخانه های مورد نیاز و فایل دیتاست\n",
    "<br>\n",
    "</div>"
   ]
  },
  {
   "cell_type": "code",
   "id": "4587a8e2",
   "metadata": {
    "ExecuteTime": {
     "end_time": "2025-07-12T18:36:47.408129Z",
     "start_time": "2025-07-12T18:36:47.398369Z"
    }
   },
   "source": [
    "import pandas as pd\n",
    "import numpy as np\n",
    "import seaborn as sns\n",
    "import matplotlib.pyplot as plt\n",
    "\n",
    "df = pd.read_csv('online_students.csv')"
   ],
   "outputs": [],
   "execution_count": 321
  },
  {
   "cell_type": "code",
   "id": "dd761a07-7347-43a2-965a-9db70ff9bd02",
   "metadata": {
    "ExecuteTime": {
     "end_time": "2025-07-12T18:36:47.428507Z",
     "start_time": "2025-07-12T18:36:47.418980Z"
    }
   },
   "source": [
    "df.info()"
   ],
   "outputs": [
    {
     "name": "stdout",
     "output_type": "stream",
     "text": [
      "<class 'pandas.core.frame.DataFrame'>\n",
      "RangeIndex: 500 entries, 0 to 499\n",
      "Data columns (total 8 columns):\n",
      " #   Column             Non-Null Count  Dtype  \n",
      "---  ------             --------------  -----  \n",
      " 0   StudentID          500 non-null    object \n",
      " 1   CourseName         500 non-null    object \n",
      " 2   TotalTimeSpent     500 non-null    float64\n",
      " 3   QuizzesAttempted   500 non-null    int64  \n",
      " 4   ForumPosts         500 non-null    int64  \n",
      " 5   AssignmentScore    485 non-null    float64\n",
      " 6   CertificateEarned  500 non-null    object \n",
      " 7   DeviceType         500 non-null    object \n",
      "dtypes: float64(2), int64(2), object(4)\n",
      "memory usage: 31.4+ KB\n"
     ]
    }
   ],
   "execution_count": 322
  },
  {
   "metadata": {
    "ExecuteTime": {
     "end_time": "2025-07-12T18:36:47.479283Z",
     "start_time": "2025-07-12T18:36:47.461651Z"
    }
   },
   "cell_type": "code",
   "source": [
    "df.drop(['StudentID'], axis=1, inplace=True, errors='ignore')\n",
    "\n",
    "print(df['CourseName'].value_counts().to_dict())\n",
    "print(df['CertificateEarned'].value_counts().to_dict())\n",
    "print(df['DeviceType'].value_counts().to_dict())\n",
    "\n",
    "df['CourseName'] = df['CourseName'].astype('category')\n",
    "df['CertificateEarned'] = df['CertificateEarned'].astype('category')\n",
    "df['DeviceType'] = df['DeviceType'].astype('category')\n",
    "\n",
    "df.info()"
   ],
   "id": "ee59598e535cd97",
   "outputs": [
    {
     "name": "stdout",
     "output_type": "stream",
     "text": [
      "{'ML Basics': 132, 'DL Advanced': 129, 'Data Prep': 126, 'AI Ethics': 113}\n",
      "{'No': 296, 'Yes': 204}\n",
      "{'Tablet': 177, 'Mobile': 168, 'Desktop': 155}\n",
      "<class 'pandas.core.frame.DataFrame'>\n",
      "RangeIndex: 500 entries, 0 to 499\n",
      "Data columns (total 7 columns):\n",
      " #   Column             Non-Null Count  Dtype   \n",
      "---  ------             --------------  -----   \n",
      " 0   CourseName         500 non-null    category\n",
      " 1   TotalTimeSpent     500 non-null    float64 \n",
      " 2   QuizzesAttempted   500 non-null    int64   \n",
      " 3   ForumPosts         500 non-null    int64   \n",
      " 4   AssignmentScore    485 non-null    float64 \n",
      " 5   CertificateEarned  500 non-null    category\n",
      " 6   DeviceType         500 non-null    category\n",
      "dtypes: category(3), float64(2), int64(2)\n",
      "memory usage: 17.7 KB\n"
     ]
    }
   ],
   "execution_count": 323
  },
  {
   "metadata": {
    "ExecuteTime": {
     "end_time": "2025-07-12T18:36:47.522165Z",
     "start_time": "2025-07-12T18:36:47.510053Z"
    }
   },
   "cell_type": "code",
   "source": "df.head()",
   "id": "9ce18e6ae1dbe18a",
   "outputs": [
    {
     "data": {
      "text/plain": [
       "  CourseName  TotalTimeSpent  QuizzesAttempted  ForumPosts  AssignmentScore  \\\n",
       "0  Data Prep            93.0                 2           7             86.2   \n",
       "1  ML Basics            78.2                 7           3             83.9   \n",
       "2  ML Basics            64.0                 5           2             65.3   \n",
       "3  Data Prep            21.7                 5           6             50.2   \n",
       "4  Data Prep            56.3                 5           5             72.1   \n",
       "\n",
       "  CertificateEarned DeviceType  \n",
       "0               Yes     Mobile  \n",
       "1                No     Mobile  \n",
       "2               Yes     Mobile  \n",
       "3                No     Mobile  \n",
       "4               Yes     Mobile  "
      ],
      "text/html": [
       "<div>\n",
       "<style scoped>\n",
       "    .dataframe tbody tr th:only-of-type {\n",
       "        vertical-align: middle;\n",
       "    }\n",
       "\n",
       "    .dataframe tbody tr th {\n",
       "        vertical-align: top;\n",
       "    }\n",
       "\n",
       "    .dataframe thead th {\n",
       "        text-align: right;\n",
       "    }\n",
       "</style>\n",
       "<table border=\"1\" class=\"dataframe\">\n",
       "  <thead>\n",
       "    <tr style=\"text-align: right;\">\n",
       "      <th></th>\n",
       "      <th>CourseName</th>\n",
       "      <th>TotalTimeSpent</th>\n",
       "      <th>QuizzesAttempted</th>\n",
       "      <th>ForumPosts</th>\n",
       "      <th>AssignmentScore</th>\n",
       "      <th>CertificateEarned</th>\n",
       "      <th>DeviceType</th>\n",
       "    </tr>\n",
       "  </thead>\n",
       "  <tbody>\n",
       "    <tr>\n",
       "      <th>0</th>\n",
       "      <td>Data Prep</td>\n",
       "      <td>93.0</td>\n",
       "      <td>2</td>\n",
       "      <td>7</td>\n",
       "      <td>86.2</td>\n",
       "      <td>Yes</td>\n",
       "      <td>Mobile</td>\n",
       "    </tr>\n",
       "    <tr>\n",
       "      <th>1</th>\n",
       "      <td>ML Basics</td>\n",
       "      <td>78.2</td>\n",
       "      <td>7</td>\n",
       "      <td>3</td>\n",
       "      <td>83.9</td>\n",
       "      <td>No</td>\n",
       "      <td>Mobile</td>\n",
       "    </tr>\n",
       "    <tr>\n",
       "      <th>2</th>\n",
       "      <td>ML Basics</td>\n",
       "      <td>64.0</td>\n",
       "      <td>5</td>\n",
       "      <td>2</td>\n",
       "      <td>65.3</td>\n",
       "      <td>Yes</td>\n",
       "      <td>Mobile</td>\n",
       "    </tr>\n",
       "    <tr>\n",
       "      <th>3</th>\n",
       "      <td>Data Prep</td>\n",
       "      <td>21.7</td>\n",
       "      <td>5</td>\n",
       "      <td>6</td>\n",
       "      <td>50.2</td>\n",
       "      <td>No</td>\n",
       "      <td>Mobile</td>\n",
       "    </tr>\n",
       "    <tr>\n",
       "      <th>4</th>\n",
       "      <td>Data Prep</td>\n",
       "      <td>56.3</td>\n",
       "      <td>5</td>\n",
       "      <td>5</td>\n",
       "      <td>72.1</td>\n",
       "      <td>Yes</td>\n",
       "      <td>Mobile</td>\n",
       "    </tr>\n",
       "  </tbody>\n",
       "</table>\n",
       "</div>"
      ]
     },
     "execution_count": 324,
     "metadata": {},
     "output_type": "execute_result"
    }
   ],
   "execution_count": 324
  },
  {
   "cell_type": "markdown",
   "id": "9afb7cbb",
   "metadata": {},
   "source": [
    "<div style=\"direction: rtl; text-align: right; font-family: Tahoma, sans-serif;\">\n",
    "<h3>وظیفه 1:</h3>\n",
    "\n",
    "بررسی و تحلیل داده‌های گمشده (Missing Values) و اعمال روش مناسب برای هندل کردن هر ستون.\n",
    "\n",
    "1- داده ها گمشده در چه ستون هایی قرار دارند؟؟ \n",
    "\n",
    "2- دلیل انتخاب روشی که اعمال کردین؟؟\n",
    "<br>\n",
    "</div>"
   ]
  },
  {
   "cell_type": "code",
   "id": "734480c1",
   "metadata": {
    "ExecuteTime": {
     "end_time": "2025-07-12T18:36:47.602261Z",
     "start_time": "2025-07-12T18:36:47.593748Z"
    }
   },
   "source": [
    "missing_counts = df.isnull().sum()\n",
    "missing_df = missing_counts[missing_counts > 0]\n",
    "print(missing_df)\n",
    "null_index = df[df.isnull().any(axis=1)].index.tolist()\n",
    "print(null_index)"
   ],
   "outputs": [
    {
     "name": "stdout",
     "output_type": "stream",
     "text": [
      "AssignmentScore    15\n",
      "dtype: int64\n",
      "[44, 93, 100, 104, 138, 147, 190, 235, 249, 320, 325, 354, 395, 445, 473]\n"
     ]
    }
   ],
   "execution_count": 325
  },
  {
   "metadata": {
    "ExecuteTime": {
     "end_time": "2025-07-12T18:36:47.670094Z",
     "start_time": "2025-07-12T18:36:47.664295Z"
    }
   },
   "cell_type": "code",
   "source": "df.dropna(inplace=True)",
   "id": "f2dd6ff74876eca4",
   "outputs": [],
   "execution_count": 326
  },
  {
   "metadata": {},
   "cell_type": "markdown",
   "source": [
    "<div dir=\"rtl\" style=\" border-right: 4px solid #0d6efd; padding: 16px; margin-top: 16px; font-family: Vazirmatn, sans-serif;\">\n",
    "  <h4 style=\"margin-top: 0;\">تصمیم‌گیری: مدیریت داده‌های گمشده در ستون `AssignmentScore`</h4>\n",
    "  <hr>\n",
    "  <blockquote style=\"margin: 0; padding-right: 12px; border-right: 2px solid #ced4da;\">\n",
    "    <p>\n",
    "      از آنجایی که از کل <strong>۵۰۰ داده</strong>، تنها <strong>۱۵ داده</strong> در ستون <code>AssignmentScore</code> مشکل داشتند، این تعداد برای تأثیرگذاری بر نتیجه نهایی قابل توجه نیست. برخورد با این مقادیر از طریق جایگزینی با میانگین یا میانه، منجر به تولید <strong>داده‌های مصنوعی</strong> و غیرواقعی می‌شد که ضرر آن می‌توانست بیشتر از حذف این چند سطر باشد.\n",
    "    </p>\n",
    "    <p>\n",
    "      بنابراین، منطقی‌ترین و امن‌ترین راه، حذف کامل این سطرها بود.\n",
    "    </p>\n",
    "  </blockquote>\n",
    " "
   ],
   "id": "709a308d82804e73"
  },
  {
   "cell_type": "markdown",
   "id": "a943c40a",
   "metadata": {},
   "source": [
    "<div style=\"direction: rtl; text-align: right; font-family: Tahoma, sans-serif;\">\n",
    "<h1></h1>\n",
    "<h2></h2>\n",
    "<h3>وظیفه 2:</h3>\n",
    "\n",
    "تشخیص داده‌های پرت در ستون‌ها .\n",
    "\n",
    "1- داده ها پرت در چه ستون هایی قرار دارند؟؟\n",
    "\n",
    "<br>\n",
    "</div>"
   ]
  },
  {
   "cell_type": "code",
   "id": "198c0f2c",
   "metadata": {
    "ExecuteTime": {
     "end_time": "2025-07-12T18:36:48.237710Z",
     "start_time": "2025-07-12T18:36:47.772664Z"
    }
   },
   "source": [
    "numerical_cols = df.select_dtypes(include=np.number).columns\n",
    "\n",
    "for col in numerical_cols:\n",
    "    plt.figure(figsize=(10, 4))\n",
    "    sns.boxplot(x=df[col])\n",
    "    plt.title(f'Box plot for: {col}')\n",
    "    plt.show()"
   ],
   "outputs": [
    {
     "data": {
      "text/plain": [
       "<Figure size 1000x400 with 1 Axes>"
      ],
      "image/png": "[encoded data removed]"
     },
     "metadata": {},
     "output_type": "display_data"
    },
    {
     "data": {
      "text/plain": [
       "<Figure size 1000x400 with 1 Axes>"
      ],
      "image/png": "[encoded data removed]"
     },
     "metadata": {},
     "output_type": "display_data"
    },
    {
     "data": {
      "text/plain": [
       "<Figure size 1000x400 with 1 Axes>"
      ],
      "image/png": "[encoded data removed]"
     },
     "metadata": {},
     "output_type": "display_data"
    },
    {
     "data": {
      "text/plain": [
       "<Figure size 1000x400 with 1 Axes>"
      ],
      "image/png": "[encoded data removed]"
     },
     "metadata": {},
     "output_type": "display_data"
    }
   ],
   "execution_count": 327
  },
  {
   "metadata": {},
   "cell_type": "markdown",
   "source": [
    "<div dir=\"rtl\" style=\"border-right: 4px solid #dc3545; padding: 16px; margin-top: 16px; font-family: Vazirmatn, sans-serif;\">\n",
    "  <h4 style=\"margin-top: 0; color: #b22222;\">تحلیل داده‌های پرت (Outlier Analysis)</h4>\n",
    "  <hr>\n",
    "  <p>\n",
    "    با توجه به تحلیل نمودارهای جعبه‌ای (Box Plots)، داده‌های پرت به وضوح در ستون‌های زیر شناسایی شدند:\n",
    "  </p>\n",
    "  <ul style=\"list-style-type: square; padding-right: 20px;\">\n",
    "    <li><code>TotalTimeSpent</code></li>\n",
    "    <li><code>QuizzesAttempted</code></li>\n",
    "    <li><code>ForumPosts</code></li>\n",
    "  </ul>\n",
    "  <p>\n",
    "    این ستون‌ها مقادیری را دارند که از توزیع عمومی داده‌ها فاصله دارند.\n",
    "  </p>\n",
    "</div>"
   ],
   "id": "b0dd3cfac6e4e139"
  },
  {
   "metadata": {
    "ExecuteTime": {
     "end_time": "2025-07-12T18:36:48.272887Z",
     "start_time": "2025-07-12T18:36:48.264454Z"
    }
   },
   "cell_type": "code",
   "source": "int(df.duplicated().sum())",
   "id": "61ef3fba42aab7a8",
   "outputs": [
    {
     "data": {
      "text/plain": [
       "0"
      ]
     },
     "execution_count": 328,
     "metadata": {},
     "output_type": "execute_result"
    }
   ],
   "execution_count": 328
  },
  {
   "cell_type": "markdown",
   "id": "35df325c",
   "metadata": {},
   "source": [
    "<div style=\"direction: rtl; text-align: right; font-family: Tahoma, sans-serif;\">\n",
    "<h1></h1>\n",
    "<h3>وظیفه 3:</h3>\n",
    "\n",
    "تبدیل ستون متنی به مقادیر عددی\n",
    "\n",
    "1- روش شما برای انجام اینکار چیست و دلیلش؟؟\n",
    "<br>\n",
    "</div>"
   ]
  },
  {
   "metadata": {
    "ExecuteTime": {
     "end_time": "2025-07-12T18:36:48.317107Z",
     "start_time": "2025-07-12T18:36:48.300614Z"
    }
   },
   "cell_type": "code",
   "source": [
    "df.info()\n",
    "df.head()"
   ],
   "id": "e48ef29f67eb2cc1",
   "outputs": [
    {
     "name": "stdout",
     "output_type": "stream",
     "text": [
      "<class 'pandas.core.frame.DataFrame'>\n",
      "Index: 485 entries, 0 to 499\n",
      "Data columns (total 7 columns):\n",
      " #   Column             Non-Null Count  Dtype   \n",
      "---  ------             --------------  -----   \n",
      " 0   CourseName         485 non-null    category\n",
      " 1   TotalTimeSpent     485 non-null    float64 \n",
      " 2   QuizzesAttempted   485 non-null    int64   \n",
      " 3   ForumPosts         485 non-null    int64   \n",
      " 4   AssignmentScore    485 non-null    float64 \n",
      " 5   CertificateEarned  485 non-null    category\n",
      " 6   DeviceType         485 non-null    category\n",
      "dtypes: category(3), float64(2), int64(2)\n",
      "memory usage: 20.8 KB\n"
     ]
    },
    {
     "data": {
      "text/plain": [
       "  CourseName  TotalTimeSpent  QuizzesAttempted  ForumPosts  AssignmentScore  \\\n",
       "0  Data Prep            93.0                 2           7             86.2   \n",
       "1  ML Basics            78.2                 7           3             83.9   \n",
       "2  ML Basics            64.0                 5           2             65.3   \n",
       "3  Data Prep            21.7                 5           6             50.2   \n",
       "4  Data Prep            56.3                 5           5             72.1   \n",
       "\n",
       "  CertificateEarned DeviceType  \n",
       "0               Yes     Mobile  \n",
       "1                No     Mobile  \n",
       "2               Yes     Mobile  \n",
       "3                No     Mobile  \n",
       "4               Yes     Mobile  "
      ],
      "text/html": [
       "<div>\n",
       "<style scoped>\n",
       "    .dataframe tbody tr th:only-of-type {\n",
       "        vertical-align: middle;\n",
       "    }\n",
       "\n",
       "    .dataframe tbody tr th {\n",
       "        vertical-align: top;\n",
       "    }\n",
       "\n",
       "    .dataframe thead th {\n",
       "        text-align: right;\n",
       "    }\n",
       "</style>\n",
       "<table border=\"1\" class=\"dataframe\">\n",
       "  <thead>\n",
       "    <tr style=\"text-align: right;\">\n",
       "      <th></th>\n",
       "      <th>CourseName</th>\n",
       "      <th>TotalTimeSpent</th>\n",
       "      <th>QuizzesAttempted</th>\n",
       "      <th>ForumPosts</th>\n",
       "      <th>AssignmentScore</th>\n",
       "      <th>CertificateEarned</th>\n",
       "      <th>DeviceType</th>\n",
       "    </tr>\n",
       "  </thead>\n",
       "  <tbody>\n",
       "    <tr>\n",
       "      <th>0</th>\n",
       "      <td>Data Prep</td>\n",
       "      <td>93.0</td>\n",
       "      <td>2</td>\n",
       "      <td>7</td>\n",
       "      <td>86.2</td>\n",
       "      <td>Yes</td>\n",
       "      <td>Mobile</td>\n",
       "    </tr>\n",
       "    <tr>\n",
       "      <th>1</th>\n",
       "      <td>ML Basics</td>\n",
       "      <td>78.2</td>\n",
       "      <td>7</td>\n",
       "      <td>3</td>\n",
       "      <td>83.9</td>\n",
       "      <td>No</td>\n",
       "      <td>Mobile</td>\n",
       "    </tr>\n",
       "    <tr>\n",
       "      <th>2</th>\n",
       "      <td>ML Basics</td>\n",
       "      <td>64.0</td>\n",
       "      <td>5</td>\n",
       "      <td>2</td>\n",
       "      <td>65.3</td>\n",
       "      <td>Yes</td>\n",
       "      <td>Mobile</td>\n",
       "    </tr>\n",
       "    <tr>\n",
       "      <th>3</th>\n",
       "      <td>Data Prep</td>\n",
       "      <td>21.7</td>\n",
       "      <td>5</td>\n",
       "      <td>6</td>\n",
       "      <td>50.2</td>\n",
       "      <td>No</td>\n",
       "      <td>Mobile</td>\n",
       "    </tr>\n",
       "    <tr>\n",
       "      <th>4</th>\n",
       "      <td>Data Prep</td>\n",
       "      <td>56.3</td>\n",
       "      <td>5</td>\n",
       "      <td>5</td>\n",
       "      <td>72.1</td>\n",
       "      <td>Yes</td>\n",
       "      <td>Mobile</td>\n",
       "    </tr>\n",
       "  </tbody>\n",
       "</table>\n",
       "</div>"
      ]
     },
     "execution_count": 329,
     "metadata": {},
     "output_type": "execute_result"
    }
   ],
   "execution_count": 329
  },
  {
   "cell_type": "code",
   "id": "cdf9add4",
   "metadata": {
    "ExecuteTime": {
     "end_time": "2025-07-12T18:36:48.608077Z",
     "start_time": "2025-07-12T18:36:48.581755Z"
    }
   },
   "source": [
    "from sklearn.compose import ColumnTransformer\n",
    "from sklearn.preprocessing import OneHotEncoder\n",
    "\n",
    "categorical_cols = df.select_dtypes(include=['object', 'category']).columns.tolist()\n",
    "categorical_transformer = OneHotEncoder(handle_unknown='ignore', drop='first')\n",
    "preprocessor = ColumnTransformer(\n",
    "    transformers=[\n",
    "        ('cat', categorical_transformer, categorical_cols)\n",
    "    ],\n",
    "    remainder='passthrough'\n",
    ")\n",
    "\n",
    "df_transformed_array = preprocessor.fit_transform(df)\n",
    "\n",
    "new_column_names = preprocessor.get_feature_names_out()\n",
    "\n",
    "df_final = pd.DataFrame(df_transformed_array, columns=new_column_names)\n",
    "\n",
    "print(df_final.head())\n",
    "\n",
    "\n",
    "# Or we can use this way:\n",
    "\n",
    "df = pd.get_dummies(df, columns=categorical_cols, drop_first=True)\n",
    "df.head()"
   ],
   "outputs": [
    {
     "name": "stdout",
     "output_type": "stream",
     "text": [
      "   cat__CourseName_DL Advanced  cat__CourseName_Data Prep  \\\n",
      "0                          0.0                        1.0   \n",
      "1                          0.0                        0.0   \n",
      "2                          0.0                        0.0   \n",
      "3                          0.0                        1.0   \n",
      "4                          0.0                        1.0   \n",
      "\n",
      "   cat__CourseName_ML Basics  cat__CertificateEarned_Yes  \\\n",
      "0                        0.0                         1.0   \n",
      "1                        1.0                         0.0   \n",
      "2                        1.0                         1.0   \n",
      "3                        0.0                         0.0   \n",
      "4                        0.0                         1.0   \n",
      "\n",
      "   cat__DeviceType_Mobile  cat__DeviceType_Tablet  remainder__TotalTimeSpent  \\\n",
      "0                     1.0                     0.0                       93.0   \n",
      "1                     1.0                     0.0                       78.2   \n",
      "2                     1.0                     0.0                       64.0   \n",
      "3                     1.0                     0.0                       21.7   \n",
      "4                     1.0                     0.0                       56.3   \n",
      "\n",
      "   remainder__QuizzesAttempted  remainder__ForumPosts  \\\n",
      "0                          2.0                    7.0   \n",
      "1                          7.0                    3.0   \n",
      "2                          5.0                    2.0   \n",
      "3                          5.0                    6.0   \n",
      "4                          5.0                    5.0   \n",
      "\n",
      "   remainder__AssignmentScore  \n",
      "0                        86.2  \n",
      "1                        83.9  \n",
      "2                        65.3  \n",
      "3                        50.2  \n",
      "4                        72.1  \n"
     ]
    },
    {
     "data": {
      "text/plain": [
       "   TotalTimeSpent  QuizzesAttempted  ForumPosts  AssignmentScore  \\\n",
       "0            93.0                 2           7             86.2   \n",
       "1            78.2                 7           3             83.9   \n",
       "2            64.0                 5           2             65.3   \n",
       "3            21.7                 5           6             50.2   \n",
       "4            56.3                 5           5             72.1   \n",
       "\n",
       "   CourseName_DL Advanced  CourseName_Data Prep  CourseName_ML Basics  \\\n",
       "0                   False                  True                 False   \n",
       "1                   False                 False                  True   \n",
       "2                   False                 False                  True   \n",
       "3                   False                  True                 False   \n",
       "4                   False                  True                 False   \n",
       "\n",
       "   CertificateEarned_Yes  DeviceType_Mobile  DeviceType_Tablet  \n",
       "0                   True               True              False  \n",
       "1                  False               True              False  \n",
       "2                   True               True              False  \n",
       "3                  False               True              False  \n",
       "4                   True               True              False  "
      ],
      "text/html": [
       "<div>\n",
       "<style scoped>\n",
       "    .dataframe tbody tr th:only-of-type {\n",
       "        vertical-align: middle;\n",
       "    }\n",
       "\n",
       "    .dataframe tbody tr th {\n",
       "        vertical-align: top;\n",
       "    }\n",
       "\n",
       "    .dataframe thead th {\n",
       "        text-align: right;\n",
       "    }\n",
       "</style>\n",
       "<table border=\"1\" class=\"dataframe\">\n",
       "  <thead>\n",
       "    <tr style=\"text-align: right;\">\n",
       "      <th></th>\n",
       "      <th>TotalTimeSpent</th>\n",
       "      <th>QuizzesAttempted</th>\n",
       "      <th>ForumPosts</th>\n",
       "      <th>AssignmentScore</th>\n",
       "      <th>CourseName_DL Advanced</th>\n",
       "      <th>CourseName_Data Prep</th>\n",
       "      <th>CourseName_ML Basics</th>\n",
       "      <th>CertificateEarned_Yes</th>\n",
       "      <th>DeviceType_Mobile</th>\n",
       "      <th>DeviceType_Tablet</th>\n",
       "    </tr>\n",
       "  </thead>\n",
       "  <tbody>\n",
       "    <tr>\n",
       "      <th>0</th>\n",
       "      <td>93.0</td>\n",
       "      <td>2</td>\n",
       "      <td>7</td>\n",
       "      <td>86.2</td>\n",
       "      <td>False</td>\n",
       "      <td>True</td>\n",
       "      <td>False</td>\n",
       "      <td>True</td>\n",
       "      <td>True</td>\n",
       "      <td>False</td>\n",
       "    </tr>\n",
       "    <tr>\n",
       "      <th>1</th>\n",
       "      <td>78.2</td>\n",
       "      <td>7</td>\n",
       "      <td>3</td>\n",
       "      <td>83.9</td>\n",
       "      <td>False</td>\n",
       "      <td>False</td>\n",
       "      <td>True</td>\n",
       "      <td>False</td>\n",
       "      <td>True</td>\n",
       "      <td>False</td>\n",
       "    </tr>\n",
       "    <tr>\n",
       "      <th>2</th>\n",
       "      <td>64.0</td>\n",
       "      <td>5</td>\n",
       "      <td>2</td>\n",
       "      <td>65.3</td>\n",
       "      <td>False</td>\n",
       "      <td>False</td>\n",
       "      <td>True</td>\n",
       "      <td>True</td>\n",
       "      <td>True</td>\n",
       "      <td>False</td>\n",
       "    </tr>\n",
       "    <tr>\n",
       "      <th>3</th>\n",
       "      <td>21.7</td>\n",
       "      <td>5</td>\n",
       "      <td>6</td>\n",
       "      <td>50.2</td>\n",
       "      <td>False</td>\n",
       "      <td>True</td>\n",
       "      <td>False</td>\n",
       "      <td>False</td>\n",
       "      <td>True</td>\n",
       "      <td>False</td>\n",
       "    </tr>\n",
       "    <tr>\n",
       "      <th>4</th>\n",
       "      <td>56.3</td>\n",
       "      <td>5</td>\n",
       "      <td>5</td>\n",
       "      <td>72.1</td>\n",
       "      <td>False</td>\n",
       "      <td>True</td>\n",
       "      <td>False</td>\n",
       "      <td>True</td>\n",
       "      <td>True</td>\n",
       "      <td>False</td>\n",
       "    </tr>\n",
       "  </tbody>\n",
       "</table>\n",
       "</div>"
      ]
     },
     "execution_count": 330,
     "metadata": {},
     "output_type": "execute_result"
    }
   ],
   "execution_count": 330
  },
  {
   "metadata": {},
   "cell_type": "markdown",
   "source": [
    "<div dir=\"rtl\" style=\"border-right: 4px solid #198754; padding: 16px; margin-top: 16px; font-family: Vazirmatn, sans-serif; text-align: right;\">\n",
    "\n",
    "  <h3 style=\"margin-top: 0; color: #b22222;\">تبدیل ستون‌های متنی به مقادیر عددی</h3>\n",
    "  <hr>\n",
    "\n",
    "  <p>\n",
    "    برای تبدیل داده‌های متنی (دسته‌ای) به فرمت عددی، ابتدا باید نوع داده را تشخیص دهیم. انتخاب روش به طور مستقیم به این بستگی دارد که آیا دسته‌ها دارای <strong>ترتیب منطقی</strong> هستند یا خیر.\n",
    "  </p>\n",
    "\n",
    "  <div style=\"margin-top: 20px;\">\n",
    "    <h5 style=\"color: #0d6efd;\">روش اول: کدگذاری وان-هات (One-Hot Encoding)</h5>\n",
    "    <blockquote style=\"margin: 0; padding-right: 12px; border-right: 2px solid #ced4da;\">\n",
    "      <p>\n",
    "        <strong>برای داده‌های اسمی (Nominal):</strong> دسته‌هایی که هیچ ترتیب یا برتری ذاتی نسبت به هم ندارند (مانند <code>CourseName</code> یا <code>DeviceType</code>).\n",
    "      </p>\n",
    "      <p>\n",
    "        <strong>روش کار:</strong> این روش برای هر مقدار منحصر به فرد در ستون، یک ستون جدید باینری (۰ یا ۱) ایجاد می‌کند.\n",
    "      </p>\n",
    "      <p>\n",
    "        <strong>دلیل انتخاب:</strong> این امن‌ترین راه است زیرا از ایجاد یک رابطه عددی <strong>اشتباه و مصنوعی</strong> بین دسته‌ها جلوگیری می‌کند. مدل به اشتباه یاد نمی‌گیرد که یک دسته از دیگری \"مهم‌تر\" است.\n",
    "      </p>\n",
    "    </blockquote>\n",
    "  </div>\n",
    "\n",
    "  <div style=\"margin-top: 20px;\">\n",
    "    <h5 style=\"color: #6f42c1;\">روش دوم: کدگذاری ترتیبی (Ordinal Encoding)</h5>\n",
    "    <blockquote style=\"margin: 0; padding-right: 12px; border-right: 2px solid #ced4da;\">\n",
    "      <p>\n",
    "        <strong>برای داده‌های ترتیبی (Ordinal):</strong> دسته‌هایی که ترتیب منطقی دارند (مانند سطح تحصیلات: \"لیسانس\"، \"فوق لیسانس\"، \"دکترا\").\n",
    "      </p>\n",
    "      <p>\n",
    "        <strong>روش کار:</strong> به هر دسته یک عدد صحیح منحصر به فرد بر اساس ترتیب آن اختصاص می‌دهد (مثلاً: لیسانس=۱، فوق لیسانس=۲، دکترا=۳).\n",
    "      </p>\n",
    "      <p>\n",
    "        <strong>دلیل انتخاب:</strong> این روش <strong>رابطه ترتیبی و معنادار</strong> موجود در داده‌ها را حفظ می‌کند که این خود می‌تواند یک سیگنال بسیار مهم برای مدل یادگیری ماشین باشد.\n",
    "      </p>\n",
    "    </blockquote>\n",
    "  </div>\n",
    "  \n",
    "  <div style=\"margin-top: 20px;\">\n",
    "    <h3 style=\"color: #358121;\">نتیجه (Ordinal Encoding)</h3>\n",
    "    <blockquote style=\"margin: 0; padding-right: 12px; border-right: 2px solid #ced4da;\">\n",
    "      <p>\n",
    "      در اینجا ما از One-Hot Encoding استفاده می کنیم چون داده هایی که داریم ترتیب در آن ها مهم نیست.\n",
    "      </p>\n",
    "    </blockquote>\n",
    "  </div>\n",
    "\n",
    "</div>"
   ],
   "id": "36e8a1f3aceb163e"
  },
  {
   "cell_type": "markdown",
   "id": "ecfe24ab",
   "metadata": {},
   "source": [
    "<div style=\"direction: rtl; text-align: right; font-family: Tahoma, sans-serif;\">\n",
    "<h1></h1>\n",
    "<h3>وظیفه 4:</h3>\n",
    "\n",
    "ساخت ویژگی جدیدی به نام EngagementScore بر اساس مجموع زمان، تعداد پست و نمره تمرین.\n",
    "<br>\n",
    "</div>"
   ]
  },
  {
   "metadata": {
    "ExecuteTime": {
     "end_time": "2025-07-12T18:36:48.711725Z",
     "start_time": "2025-07-12T18:36:48.695346Z"
    }
   },
   "cell_type": "code",
   "source": [
    "from sklearn.preprocessing import MinMaxScaler\n",
    "\n",
    "cols_for_score = ['TotalTimeSpent', 'ForumPosts', 'AssignmentScore']\n",
    "features = df[cols_for_score]\n",
    "scaler = MinMaxScaler()\n",
    "scaled_features = scaler.fit_transform(features)\n",
    "\n",
    "df['EngagementScore'] = scaled_features.sum(axis=1)\n",
    "df.head()"
   ],
   "id": "2907ea76ddba9ab",
   "outputs": [
    {
     "data": {
      "text/plain": [
       "   TotalTimeSpent  QuizzesAttempted  ForumPosts  AssignmentScore  \\\n",
       "0            93.0                 2           7             86.2   \n",
       "1            78.2                 7           3             83.9   \n",
       "2            64.0                 5           2             65.3   \n",
       "3            21.7                 5           6             50.2   \n",
       "4            56.3                 5           5             72.1   \n",
       "\n",
       "   CourseName_DL Advanced  CourseName_Data Prep  CourseName_ML Basics  \\\n",
       "0                   False                  True                 False   \n",
       "1                   False                 False                  True   \n",
       "2                   False                 False                  True   \n",
       "3                   False                  True                 False   \n",
       "4                   False                  True                 False   \n",
       "\n",
       "   CertificateEarned_Yes  DeviceType_Mobile  DeviceType_Tablet  \\\n",
       "0                   True               True              False   \n",
       "1                  False               True              False   \n",
       "2                   True               True              False   \n",
       "3                  False               True              False   \n",
       "4                   True               True              False   \n",
       "\n",
       "   EngagementScore  \n",
       "0         1.791037  \n",
       "1         1.357988  \n",
       "2         1.035393  \n",
       "3         1.114778  \n",
       "4         1.352537  "
      ],
      "text/html": [
       "<div>\n",
       "<style scoped>\n",
       "    .dataframe tbody tr th:only-of-type {\n",
       "        vertical-align: middle;\n",
       "    }\n",
       "\n",
       "    .dataframe tbody tr th {\n",
       "        vertical-align: top;\n",
       "    }\n",
       "\n",
       "    .dataframe thead th {\n",
       "        text-align: right;\n",
       "    }\n",
       "</style>\n",
       "<table border=\"1\" class=\"dataframe\">\n",
       "  <thead>\n",
       "    <tr style=\"text-align: right;\">\n",
       "      <th></th>\n",
       "      <th>TotalTimeSpent</th>\n",
       "      <th>QuizzesAttempted</th>\n",
       "      <th>ForumPosts</th>\n",
       "      <th>AssignmentScore</th>\n",
       "      <th>CourseName_DL Advanced</th>\n",
       "      <th>CourseName_Data Prep</th>\n",
       "      <th>CourseName_ML Basics</th>\n",
       "      <th>CertificateEarned_Yes</th>\n",
       "      <th>DeviceType_Mobile</th>\n",
       "      <th>DeviceType_Tablet</th>\n",
       "      <th>EngagementScore</th>\n",
       "    </tr>\n",
       "  </thead>\n",
       "  <tbody>\n",
       "    <tr>\n",
       "      <th>0</th>\n",
       "      <td>93.0</td>\n",
       "      <td>2</td>\n",
       "      <td>7</td>\n",
       "      <td>86.2</td>\n",
       "      <td>False</td>\n",
       "      <td>True</td>\n",
       "      <td>False</td>\n",
       "      <td>True</td>\n",
       "      <td>True</td>\n",
       "      <td>False</td>\n",
       "      <td>1.791037</td>\n",
       "    </tr>\n",
       "    <tr>\n",
       "      <th>1</th>\n",
       "      <td>78.2</td>\n",
       "      <td>7</td>\n",
       "      <td>3</td>\n",
       "      <td>83.9</td>\n",
       "      <td>False</td>\n",
       "      <td>False</td>\n",
       "      <td>True</td>\n",
       "      <td>False</td>\n",
       "      <td>True</td>\n",
       "      <td>False</td>\n",
       "      <td>1.357988</td>\n",
       "    </tr>\n",
       "    <tr>\n",
       "      <th>2</th>\n",
       "      <td>64.0</td>\n",
       "      <td>5</td>\n",
       "      <td>2</td>\n",
       "      <td>65.3</td>\n",
       "      <td>False</td>\n",
       "      <td>False</td>\n",
       "      <td>True</td>\n",
       "      <td>True</td>\n",
       "      <td>True</td>\n",
       "      <td>False</td>\n",
       "      <td>1.035393</td>\n",
       "    </tr>\n",
       "    <tr>\n",
       "      <th>3</th>\n",
       "      <td>21.7</td>\n",
       "      <td>5</td>\n",
       "      <td>6</td>\n",
       "      <td>50.2</td>\n",
       "      <td>False</td>\n",
       "      <td>True</td>\n",
       "      <td>False</td>\n",
       "      <td>False</td>\n",
       "      <td>True</td>\n",
       "      <td>False</td>\n",
       "      <td>1.114778</td>\n",
       "    </tr>\n",
       "    <tr>\n",
       "      <th>4</th>\n",
       "      <td>56.3</td>\n",
       "      <td>5</td>\n",
       "      <td>5</td>\n",
       "      <td>72.1</td>\n",
       "      <td>False</td>\n",
       "      <td>True</td>\n",
       "      <td>False</td>\n",
       "      <td>True</td>\n",
       "      <td>True</td>\n",
       "      <td>False</td>\n",
       "      <td>1.352537</td>\n",
       "    </tr>\n",
       "  </tbody>\n",
       "</table>\n",
       "</div>"
      ]
     },
     "execution_count": 331,
     "metadata": {},
     "output_type": "execute_result"
    }
   ],
   "execution_count": 331
  },
  {
   "metadata": {},
   "cell_type": "markdown",
   "source": [
    "<div dir=\"rtl\" style=\"border-right: 4px solid #0d6efd; padding: 16px; margin-top: 16px; font-family: Vazirmatn, sans-serif; text-align: right;\">\n",
    "\n",
    "  <h4 style=\"margin-top: 0; color: #b22222;\">توجیه روش: چرا برای ساخت `EngagementScore` از مقیاس‌بندی استفاده کردیم؟</h4>\n",
    "  <hr>\n",
    "\n",
    "  <p>\n",
    "    ما از روش **مقیاس‌بندی و سپس جمع** استفاده کردیم، زیرا جمع کردن مستقیم مقادیر ستون‌ها یک روش **نادرست و گمراه‌کننده** بود.\n",
    "  </p>\n",
    "\n",
    "  <blockquote style=\"margin: 0; padding-right: 12px; border-right: 2px solid #ced4da;\">\n",
    "    <h5 style=\"color: #dc3545;\">مشکل روش جمع مستقیم:</h5>\n",
    "    <p>\n",
    "      ستون‌های <code>TotalTimeSpent</code>، <code>ForumPosts</code> و <code>AssignmentScore</code> دارای <strong>مقیاس‌های بسیار متفاوتی</strong> هستند. اگر این مقادیر را مستقیماً جمع می‌کردیم، ستونی که اعداد بزرگ‌تری دارد (مانند <code>TotalTimeSpent</code>) بر نتیجه نهایی غلبه می‌کرد و تأثیر دو ستون دیگر تقریباً نادیده گرفته می‌شد. این کار منجر به یک امتیاز نامتعادل می‌شد که به درستی میزان تعامل کاربر را نشان نمی‌داد.\n",
    "    </p>\n",
    "  </blockquote>\n",
    "\n",
    "  <div style=\"margin-top: 16px;\">\n",
    "    <h5 style=\"color: #198754;\">راه حل صحیح (روش استفاده شده):</h5>\n",
    "    <p>\n",
    "      با استفاده از <code>MinMaxScaler</code>، ما ابتدا تمام این سه ویژگی را به یک مقیاس یکسان (بین ۰ تا ۱) آوردیم. این کار تضمین می‌کند که هر سه فعالیت به یک اندازه در امتیاز نهایی مشارکت داشته باشند و یک <strong>معیار منصفانه و دقیق</strong> از تعامل کاربر به دست آید.\n",
    "    </p>\n",
    "  </div>\n",
    "\n",
    "</div>"
   ],
   "id": "9b20c42513712e01"
  },
  {
   "cell_type": "markdown",
   "id": "b058dfb4",
   "metadata": {},
   "source": [
    "<div style=\"direction: rtl; text-align: right; font-family: Tahoma, sans-serif;\">\n",
    "<h1></h1>\n",
    "<h2></h2>\n",
    "<h3>وظیفه 5:</h3>\n",
    "اگر نوع تایپ ستون هارو فیکس نکردین ابتدا فیکس و سپس\n",
    "ذخیره فایل نهایی با نام `cleaned_students.csv`.\n",
    "<br>\n",
    "</div>"
   ]
  },
  {
   "cell_type": "code",
   "id": "f749b560",
   "metadata": {
    "ExecuteTime": {
     "end_time": "2025-07-12T18:36:48.876740Z",
     "start_time": "2025-07-12T18:36:48.860737Z"
    }
   },
   "source": "df.info()",
   "outputs": [
    {
     "name": "stdout",
     "output_type": "stream",
     "text": [
      "<class 'pandas.core.frame.DataFrame'>\n",
      "Index: 485 entries, 0 to 499\n",
      "Data columns (total 11 columns):\n",
      " #   Column                  Non-Null Count  Dtype  \n",
      "---  ------                  --------------  -----  \n",
      " 0   TotalTimeSpent          485 non-null    float64\n",
      " 1   QuizzesAttempted        485 non-null    int64  \n",
      " 2   ForumPosts              485 non-null    int64  \n",
      " 3   AssignmentScore         485 non-null    float64\n",
      " 4   CourseName_DL Advanced  485 non-null    bool   \n",
      " 5   CourseName_Data Prep    485 non-null    bool   \n",
      " 6   CourseName_ML Basics    485 non-null    bool   \n",
      " 7   CertificateEarned_Yes   485 non-null    bool   \n",
      " 8   DeviceType_Mobile       485 non-null    bool   \n",
      " 9   DeviceType_Tablet       485 non-null    bool   \n",
      " 10  EngagementScore         485 non-null    float64\n",
      "dtypes: bool(6), float64(3), int64(2)\n",
      "memory usage: 25.6 KB\n"
     ]
    }
   ],
   "execution_count": 332
  },
  {
   "metadata": {
    "ExecuteTime": {
     "end_time": "2025-07-12T18:36:49.008412Z",
     "start_time": "2025-07-12T18:36:49.000009Z"
    }
   },
   "cell_type": "code",
   "source": [
    "bool_columns = df.select_dtypes(include='bool').columns\n",
    "\n",
    "df[bool_columns] = df[bool_columns].astype(int)"
   ],
   "id": "cf6b239d65efb773",
   "outputs": [],
   "execution_count": 333
  },
  {
   "metadata": {
    "ExecuteTime": {
     "end_time": "2025-07-12T18:36:49.113783Z",
     "start_time": "2025-07-12T18:36:49.100260Z"
    }
   },
   "cell_type": "code",
   "source": "df.to_csv('cleaned_students.csv', index=False, encoding='utf-8-sig')",
   "id": "19c72d32fbf9a2e2",
   "outputs": [],
   "execution_count": 334
  }
 ],
 "metadata": {
  "kernelspec": {
   "display_name": "Python [conda env:data-analysis-env]",
   "language": "python",
   "name": "conda-env-data-analysis-env-py"
  },
  "language_info": {
   "codemirror_mode": {
    "name": "ipython",
    "version": 3
   },
   "file_extension": ".py",
   "mimetype": "text/x-python",
   "name": "python",
   "nbconvert_exporter": "python",
   "pygments_lexer": "ipython3",
   "version": "3.13.2"
  }
 },
 "nbformat": 4,
 "nbformat_minor": 5
}
